{
 "cells": [
  {
   "cell_type": "markdown",
   "metadata": {},
   "source": [
    "# Training - Facial Emotion Recognition Task"
   ]
  },
  {
   "cell_type": "code",
   "execution_count": 43,
   "metadata": {},
   "outputs": [],
   "source": [
    "import os\n",
    "import numpy as np\n",
    "import tensorflow as tf\n",
    "from tensorflow import keras\n",
    "from keras.callbacks import EarlyStopping\n",
    "import time\n",
    "import matplotlib.pyplot as plt\n",
    "from keras.models import load_model"
   ]
  },
  {
   "cell_type": "code",
   "execution_count": 44,
   "metadata": {},
   "outputs": [],
   "source": [
    "import sys\n",
    "AI_MODEL_ROOT = os.path.join(\n",
    "    os.path.dirname(os.path.realpath(os.curdir)),\n",
    ")\n",
    "sys.path.append(AI_MODEL_ROOT)"
   ]
  },
  {
   "cell_type": "code",
   "execution_count": 73,
   "metadata": {},
   "outputs": [],
   "source": [
    "import random\n",
    "import constants\n",
    "from image_preprocessing import decode_labels\n",
    "import pickle\n",
    "from sklearn.metrics import accuracy_score, precision_score, recall_score, f1_score, roc_auc_score, roc_curve, auc"
   ]
  },
  {
   "cell_type": "markdown",
   "metadata": {},
   "source": [
    "## Load the Processed Data"
   ]
  },
  {
   "cell_type": "code",
   "execution_count": 46,
   "metadata": {},
   "outputs": [],
   "source": [
    "# Define Paths\n",
    "TRAIN_PATHS = [\n",
    "    # apollo2506\n",
    "    os.path.join(\n",
    "        os.path.dirname(os.path.realpath(os.curdir)),\n",
    "        'dataset',\n",
    "        'apollo2506',\n",
    "        'facial-recognition-dataset'\n",
    "    )\n",
    "]\n",
    "VAL_PATH = [\n",
    "    # tapakah68\n",
    "    os.path.join(\n",
    "        os.path.dirname(os.path.realpath(os.curdir)),\n",
    "        'dataset',\n",
    "        'tapakah68',\n",
    "        'facial-emotion-recognition'\n",
    "    )\n",
    "]\n",
    "TEST_PATH = [\n",
    "    # olivetti_faces\n",
    "    os.path.join(\n",
    "        os.path.dirname(os.path.realpath(os.curdir)),\n",
    "        'dataset',\n",
    "        'olivetti_faces'\n",
    "    )\n",
    "]"
   ]
  },
  {
   "cell_type": "code",
   "execution_count": 47,
   "metadata": {},
   "outputs": [
    {
     "name": "stdout",
     "output_type": "stream",
     "text": [
      "Extracting Data from C:\\projects\\GenAI\\AI_Model\\dataset\\apollo2506\\facial-recognition-dataset\n",
      "Data Extracted Successfully from C:\\projects\\GenAI\\AI_Model\\dataset\\apollo2506\\facial-recognition-dataset\n",
      "Label Extracted Successfully from C:\\projects\\GenAI\\AI_Model\\dataset\\apollo2506\\facial-recognition-dataset\n"
     ]
    }
   ],
   "source": [
    "X_TRAIN = np.array([])\n",
    "Y_TRAIN = np.array([])\n",
    "X_TEST = np.array([])\n",
    "Y_TEST = np.array([])\n",
    "\n",
    "for path in TRAIN_PATHS:\n",
    "    print(\"Extracting Data from\", path)\n",
    "    if 'features' in os.listdir(path):\n",
    "        X_train_new = np.load(os.path.join(path, 'features', 'X_train.npy'))\n",
    "        X_test_new = np.load(os.path.join(path, 'features', 'X_test.npy'))\n",
    "\n",
    "        if X_TRAIN.size == 0:\n",
    "            X_TRAIN = X_train_new\n",
    "        else:\n",
    "            X_TRAIN = np.concatenate((X_TRAIN, X_train_new), axis=0)\n",
    "            \n",
    "        if X_TEST.size == 0:\n",
    "            X_TEST = X_test_new\n",
    "        else:\n",
    "            X_TEST = np.concatenate((X_TEST, X_test_new), axis=0)\n",
    "        print(f\"Data Extracted Successfully from {path}\")\n",
    "    if 'label' in os.listdir(path):\n",
    "        y_train_new = np.load(os.path.join(path, 'label', 'encoded_y_train.npy'))\n",
    "        y_test_new = np.load(os.path.join(path, 'label', 'encoded_y_test.npy'))\n",
    "\n",
    "        if Y_TRAIN.size == 0:\n",
    "            Y_TRAIN = y_train_new\n",
    "        else:\n",
    "            Y_TRAIN = np.concatenate((Y_TRAIN, y_train_new), axis=0)\n",
    "        \n",
    "        if Y_TEST.size == 0:\n",
    "            Y_TEST = y_test_new\n",
    "        else:\n",
    "            Y_TEST = np.concatenate((Y_TEST, y_test_new), axis=0)\n",
    "        print(f\"Label Extracted Successfully from {path}\")\n"
   ]
  },
  {
   "cell_type": "code",
   "execution_count": 48,
   "metadata": {},
   "outputs": [
    {
     "name": "stdout",
     "output_type": "stream",
     "text": [
      "Shape of X_TRAIN: (28273, 64, 64)\n",
      "Shape of Y_TRAIN: (28273,)\n",
      "Shape of X_TEST: (7067, 64, 64)\n",
      "Shape of Y_TEST: (7067,)\n"
     ]
    }
   ],
   "source": [
    "print(f\"Shape of X_TRAIN: {X_TRAIN.shape}\")\n",
    "print(f\"Shape of Y_TRAIN: {Y_TRAIN.shape}\")\n",
    "print(f\"Shape of X_TEST: {X_TEST.shape}\")\n",
    "print(f\"Shape of Y_TEST: {Y_TEST.shape}\")"
   ]
  },
  {
   "cell_type": "code",
   "execution_count": 49,
   "metadata": {},
   "outputs": [
    {
     "name": "stdout",
     "output_type": "stream",
     "text": [
      "Extracting Data from C:\\projects\\GenAI\\AI_Model\\dataset\\tapakah68\\facial-emotion-recognition\n",
      "Data Extracted Successfully from C:\\projects\\GenAI\\AI_Model\\dataset\\tapakah68\\facial-emotion-recognition\n"
     ]
    }
   ],
   "source": [
    "X_VAL = np.array([])\n",
    "Y_VAL = np.array([])\n",
    "\n",
    "for path in VAL_PATH:\n",
    "    print(\"Extracting Data from\", path)\n",
    "    if 'features' in os.listdir(path):\n",
    "        X_val_new = np.load(open(os.path.join(path, 'features', 'X_train.npy'), 'rb'))\n",
    "        X_test_val_new = np.load(open(os.path.join(path, 'features', 'X_test.npy'), 'rb'))\n",
    "        X_val_new = np.concatenate((X_val_new, X_test_val_new), axis=0)\n",
    "        if X_VAL.size == 0:\n",
    "            X_VAL = X_val_new\n",
    "        else:\n",
    "            X_VAL = np.concatenate((X_VAL, X_val_new), axis=0)\n",
    "    if 'labels' in os.listdir(path):\n",
    "        y_val_new = np.load(open(os.path.join(path, 'labels', 'y_train.npy'), 'rb'))\n",
    "        y_test_val_new = np.load(open(os.path.join(path, 'labels', 'y_test.npy'), 'rb'))\n",
    "        y_val_new = np.concatenate((y_val_new, y_test_val_new), axis=0)\n",
    "        if Y_VAL.size == 0:\n",
    "            Y_VAL = y_val_new\n",
    "        else:\n",
    "            Y_VAL = np.concatenate((Y_VAL, y_val_new), axis=0)\n",
    "    print(f\"Data Extracted Successfully from {path}\")\n",
    "assert X_VAL.shape[0] == Y_VAL.shape[0]"
   ]
  },
  {
   "cell_type": "code",
   "execution_count": 50,
   "metadata": {},
   "outputs": [
    {
     "data": {
      "text/plain": [
       "((304, 64, 64), (304,))"
      ]
     },
     "execution_count": 50,
     "metadata": {},
     "output_type": "execute_result"
    }
   ],
   "source": [
    "X_VAL.shape, Y_VAL.shape"
   ]
  },
  {
   "cell_type": "code",
   "execution_count": 51,
   "metadata": {},
   "outputs": [
    {
     "name": "stdout",
     "output_type": "stream",
     "text": [
      "Extracting Data from C:\\projects\\GenAI\\AI_Model\\dataset\\olivetti_faces\n",
      "Data Extracted Successfully from C:\\projects\\GenAI\\AI_Model\\dataset\\olivetti_faces\n",
      "Label Extracted Successfully from C:\\projects\\GenAI\\AI_Model\\dataset\\olivetti_faces\n"
     ]
    }
   ],
   "source": [
    "for path in TEST_PATH:\n",
    "    print(\"Extracting Data from\", path)\n",
    "    if 'features' in os.listdir(path):\n",
    "        X_test_new = np.load(open(os.path.join(path, 'features', 'olivetti_faces_preprocessed.npy'), 'rb'))\n",
    "        if X_TEST.size == 0:\n",
    "            X_TEST = X_test_new\n",
    "        else:\n",
    "            X_TEST = np.concatenate((X_TEST, X_test_new), axis=0)\n",
    "        print(f\"Data Extracted Successfully from {path}\")\n",
    "    if 'label' in os.listdir(path):\n",
    "        y_test_new = np.load(open(os.path.join(path, 'label', 'emotion_label.npy'), 'rb'))\n",
    "        if Y_TEST.size == 0:\n",
    "            Y_TEST = y_test_new\n",
    "        else:\n",
    "            Y_TEST = np.concatenate((Y_TEST, y_test_new), axis=0)\n",
    "        print(f\"Label Extracted Successfully from {path}\")\n",
    "assert X_TEST.shape[0] == Y_TEST.shape[0]"
   ]
  },
  {
   "cell_type": "code",
   "execution_count": 52,
   "metadata": {},
   "outputs": [
    {
     "data": {
      "text/plain": [
       "((7467, 64, 64), (7467,))"
      ]
     },
     "execution_count": 52,
     "metadata": {},
     "output_type": "execute_result"
    }
   ],
   "source": [
    "X_TEST.shape, Y_TEST.shape"
   ]
  },
  {
   "cell_type": "markdown",
   "metadata": {},
   "source": [
    "## Load the Network from Human Face Detection as the Non-Trainable base model"
   ]
  },
  {
   "cell_type": "code",
   "execution_count": 53,
   "metadata": {},
   "outputs": [
    {
     "name": "stderr",
     "output_type": "stream",
     "text": [
      "WARNING:absl:Compiled the loaded model, but the compiled metrics have yet to be built. `model.compile_metrics` will be empty until you train or evaluate the model.\n"
     ]
    },
    {
     "data": {
      "text/html": [
       "<pre style=\"white-space:pre;overflow-x:auto;line-height:normal;font-family:Menlo,'DejaVu Sans Mono',consolas,'Courier New',monospace\"><span style=\"font-weight: bold\">Model: \"sequential\"</span>\n",
       "</pre>\n"
      ],
      "text/plain": [
       "\u001b[1mModel: \"sequential\"\u001b[0m\n"
      ]
     },
     "metadata": {},
     "output_type": "display_data"
    },
    {
     "data": {
      "text/html": [
       "<pre style=\"white-space:pre;overflow-x:auto;line-height:normal;font-family:Menlo,'DejaVu Sans Mono',consolas,'Courier New',monospace\">┏━━━━━━━━━━━━━━━━━━━━━━━━━━━━━━━━━┳━━━━━━━━━━━━━━━━━━━━━━━━┳━━━━━━━━━━━━━━━┓\n",
       "┃<span style=\"font-weight: bold\"> Layer (type)                    </span>┃<span style=\"font-weight: bold\"> Output Shape           </span>┃<span style=\"font-weight: bold\">       Param # </span>┃\n",
       "┡━━━━━━━━━━━━━━━━━━━━━━━━━━━━━━━━━╇━━━━━━━━━━━━━━━━━━━━━━━━╇━━━━━━━━━━━━━━━┩\n",
       "│ conv2d (<span style=\"color: #0087ff; text-decoration-color: #0087ff\">Conv2D</span>)                 │ (<span style=\"color: #00d7ff; text-decoration-color: #00d7ff\">None</span>, <span style=\"color: #00af00; text-decoration-color: #00af00\">60</span>, <span style=\"color: #00af00; text-decoration-color: #00af00\">60</span>, <span style=\"color: #00af00; text-decoration-color: #00af00\">16</span>)     │           <span style=\"color: #00af00; text-decoration-color: #00af00\">416</span> │\n",
       "├─────────────────────────────────┼────────────────────────┼───────────────┤\n",
       "│ max_pooling2d (<span style=\"color: #0087ff; text-decoration-color: #0087ff\">MaxPooling2D</span>)    │ (<span style=\"color: #00d7ff; text-decoration-color: #00d7ff\">None</span>, <span style=\"color: #00af00; text-decoration-color: #00af00\">30</span>, <span style=\"color: #00af00; text-decoration-color: #00af00\">30</span>, <span style=\"color: #00af00; text-decoration-color: #00af00\">16</span>)     │             <span style=\"color: #00af00; text-decoration-color: #00af00\">0</span> │\n",
       "├─────────────────────────────────┼────────────────────────┼───────────────┤\n",
       "│ conv2d_1 (<span style=\"color: #0087ff; text-decoration-color: #0087ff\">Conv2D</span>)               │ (<span style=\"color: #00d7ff; text-decoration-color: #00d7ff\">None</span>, <span style=\"color: #00af00; text-decoration-color: #00af00\">28</span>, <span style=\"color: #00af00; text-decoration-color: #00af00\">28</span>, <span style=\"color: #00af00; text-decoration-color: #00af00\">32</span>)     │         <span style=\"color: #00af00; text-decoration-color: #00af00\">4,640</span> │\n",
       "├─────────────────────────────────┼────────────────────────┼───────────────┤\n",
       "│ max_pooling2d_1 (<span style=\"color: #0087ff; text-decoration-color: #0087ff\">MaxPooling2D</span>)  │ (<span style=\"color: #00d7ff; text-decoration-color: #00d7ff\">None</span>, <span style=\"color: #00af00; text-decoration-color: #00af00\">14</span>, <span style=\"color: #00af00; text-decoration-color: #00af00\">14</span>, <span style=\"color: #00af00; text-decoration-color: #00af00\">32</span>)     │             <span style=\"color: #00af00; text-decoration-color: #00af00\">0</span> │\n",
       "├─────────────────────────────────┼────────────────────────┼───────────────┤\n",
       "│ flatten (<span style=\"color: #0087ff; text-decoration-color: #0087ff\">Flatten</span>)               │ (<span style=\"color: #00d7ff; text-decoration-color: #00d7ff\">None</span>, <span style=\"color: #00af00; text-decoration-color: #00af00\">6272</span>)           │             <span style=\"color: #00af00; text-decoration-color: #00af00\">0</span> │\n",
       "├─────────────────────────────────┼────────────────────────┼───────────────┤\n",
       "│ dense (<span style=\"color: #0087ff; text-decoration-color: #0087ff\">Dense</span>)                   │ (<span style=\"color: #00d7ff; text-decoration-color: #00d7ff\">None</span>, <span style=\"color: #00af00; text-decoration-color: #00af00\">64</span>)             │       <span style=\"color: #00af00; text-decoration-color: #00af00\">401,472</span> │\n",
       "├─────────────────────────────────┼────────────────────────┼───────────────┤\n",
       "│ dense_1 (<span style=\"color: #0087ff; text-decoration-color: #0087ff\">Dense</span>)                 │ (<span style=\"color: #00d7ff; text-decoration-color: #00d7ff\">None</span>, <span style=\"color: #00af00; text-decoration-color: #00af00\">64</span>)             │         <span style=\"color: #00af00; text-decoration-color: #00af00\">4,160</span> │\n",
       "├─────────────────────────────────┼────────────────────────┼───────────────┤\n",
       "│ dense_2 (<span style=\"color: #0087ff; text-decoration-color: #0087ff\">Dense</span>)                 │ (<span style=\"color: #00d7ff; text-decoration-color: #00d7ff\">None</span>, <span style=\"color: #00af00; text-decoration-color: #00af00\">2</span>)              │           <span style=\"color: #00af00; text-decoration-color: #00af00\">130</span> │\n",
       "└─────────────────────────────────┴────────────────────────┴───────────────┘\n",
       "</pre>\n"
      ],
      "text/plain": [
       "┏━━━━━━━━━━━━━━━━━━━━━━━━━━━━━━━━━┳━━━━━━━━━━━━━━━━━━━━━━━━┳━━━━━━━━━━━━━━━┓\n",
       "┃\u001b[1m \u001b[0m\u001b[1mLayer (type)                   \u001b[0m\u001b[1m \u001b[0m┃\u001b[1m \u001b[0m\u001b[1mOutput Shape          \u001b[0m\u001b[1m \u001b[0m┃\u001b[1m \u001b[0m\u001b[1m      Param #\u001b[0m\u001b[1m \u001b[0m┃\n",
       "┡━━━━━━━━━━━━━━━━━━━━━━━━━━━━━━━━━╇━━━━━━━━━━━━━━━━━━━━━━━━╇━━━━━━━━━━━━━━━┩\n",
       "│ conv2d (\u001b[38;5;33mConv2D\u001b[0m)                 │ (\u001b[38;5;45mNone\u001b[0m, \u001b[38;5;34m60\u001b[0m, \u001b[38;5;34m60\u001b[0m, \u001b[38;5;34m16\u001b[0m)     │           \u001b[38;5;34m416\u001b[0m │\n",
       "├─────────────────────────────────┼────────────────────────┼───────────────┤\n",
       "│ max_pooling2d (\u001b[38;5;33mMaxPooling2D\u001b[0m)    │ (\u001b[38;5;45mNone\u001b[0m, \u001b[38;5;34m30\u001b[0m, \u001b[38;5;34m30\u001b[0m, \u001b[38;5;34m16\u001b[0m)     │             \u001b[38;5;34m0\u001b[0m │\n",
       "├─────────────────────────────────┼────────────────────────┼───────────────┤\n",
       "│ conv2d_1 (\u001b[38;5;33mConv2D\u001b[0m)               │ (\u001b[38;5;45mNone\u001b[0m, \u001b[38;5;34m28\u001b[0m, \u001b[38;5;34m28\u001b[0m, \u001b[38;5;34m32\u001b[0m)     │         \u001b[38;5;34m4,640\u001b[0m │\n",
       "├─────────────────────────────────┼────────────────────────┼───────────────┤\n",
       "│ max_pooling2d_1 (\u001b[38;5;33mMaxPooling2D\u001b[0m)  │ (\u001b[38;5;45mNone\u001b[0m, \u001b[38;5;34m14\u001b[0m, \u001b[38;5;34m14\u001b[0m, \u001b[38;5;34m32\u001b[0m)     │             \u001b[38;5;34m0\u001b[0m │\n",
       "├─────────────────────────────────┼────────────────────────┼───────────────┤\n",
       "│ flatten (\u001b[38;5;33mFlatten\u001b[0m)               │ (\u001b[38;5;45mNone\u001b[0m, \u001b[38;5;34m6272\u001b[0m)           │             \u001b[38;5;34m0\u001b[0m │\n",
       "├─────────────────────────────────┼────────────────────────┼───────────────┤\n",
       "│ dense (\u001b[38;5;33mDense\u001b[0m)                   │ (\u001b[38;5;45mNone\u001b[0m, \u001b[38;5;34m64\u001b[0m)             │       \u001b[38;5;34m401,472\u001b[0m │\n",
       "├─────────────────────────────────┼────────────────────────┼───────────────┤\n",
       "│ dense_1 (\u001b[38;5;33mDense\u001b[0m)                 │ (\u001b[38;5;45mNone\u001b[0m, \u001b[38;5;34m64\u001b[0m)             │         \u001b[38;5;34m4,160\u001b[0m │\n",
       "├─────────────────────────────────┼────────────────────────┼───────────────┤\n",
       "│ dense_2 (\u001b[38;5;33mDense\u001b[0m)                 │ (\u001b[38;5;45mNone\u001b[0m, \u001b[38;5;34m2\u001b[0m)              │           \u001b[38;5;34m130\u001b[0m │\n",
       "└─────────────────────────────────┴────────────────────────┴───────────────┘\n"
      ]
     },
     "metadata": {},
     "output_type": "display_data"
    },
    {
     "data": {
      "text/html": [
       "<pre style=\"white-space:pre;overflow-x:auto;line-height:normal;font-family:Menlo,'DejaVu Sans Mono',consolas,'Courier New',monospace\"><span style=\"font-weight: bold\"> Total params: </span><span style=\"color: #00af00; text-decoration-color: #00af00\">410,820</span> (1.57 MB)\n",
       "</pre>\n"
      ],
      "text/plain": [
       "\u001b[1m Total params: \u001b[0m\u001b[38;5;34m410,820\u001b[0m (1.57 MB)\n"
      ]
     },
     "metadata": {},
     "output_type": "display_data"
    },
    {
     "data": {
      "text/html": [
       "<pre style=\"white-space:pre;overflow-x:auto;line-height:normal;font-family:Menlo,'DejaVu Sans Mono',consolas,'Courier New',monospace\"><span style=\"font-weight: bold\"> Trainable params: </span><span style=\"color: #00af00; text-decoration-color: #00af00\">410,818</span> (1.57 MB)\n",
       "</pre>\n"
      ],
      "text/plain": [
       "\u001b[1m Trainable params: \u001b[0m\u001b[38;5;34m410,818\u001b[0m (1.57 MB)\n"
      ]
     },
     "metadata": {},
     "output_type": "display_data"
    },
    {
     "data": {
      "text/html": [
       "<pre style=\"white-space:pre;overflow-x:auto;line-height:normal;font-family:Menlo,'DejaVu Sans Mono',consolas,'Courier New',monospace\"><span style=\"font-weight: bold\"> Non-trainable params: </span><span style=\"color: #00af00; text-decoration-color: #00af00\">0</span> (0.00 B)\n",
       "</pre>\n"
      ],
      "text/plain": [
       "\u001b[1m Non-trainable params: \u001b[0m\u001b[38;5;34m0\u001b[0m (0.00 B)\n"
      ]
     },
     "metadata": {},
     "output_type": "display_data"
    },
    {
     "data": {
      "text/html": [
       "<pre style=\"white-space:pre;overflow-x:auto;line-height:normal;font-family:Menlo,'DejaVu Sans Mono',consolas,'Courier New',monospace\"><span style=\"font-weight: bold\"> Optimizer params: </span><span style=\"color: #00af00; text-decoration-color: #00af00\">2</span> (12.00 B)\n",
       "</pre>\n"
      ],
      "text/plain": [
       "\u001b[1m Optimizer params: \u001b[0m\u001b[38;5;34m2\u001b[0m (12.00 B)\n"
      ]
     },
     "metadata": {},
     "output_type": "display_data"
    }
   ],
   "source": [
    "# Load the model from the .h5 file\n",
    "model_path = os.path.join(\n",
    "    AI_MODEL_ROOT,\n",
    "    'human_face_detection_model.h5'\n",
    ")\n",
    "model = load_model(model_path)\n",
    "\n",
    "# Print the model summary\n",
    "model.summary()"
   ]
  },
  {
   "cell_type": "code",
   "execution_count": 54,
   "metadata": {},
   "outputs": [],
   "source": [
    "# Set the existing layers as non-trainable\n",
    "for layer in model.layers:\n",
    "    layer.trainable = False"
   ]
  },
  {
   "cell_type": "code",
   "execution_count": 55,
   "metadata": {},
   "outputs": [
    {
     "name": "stdout",
     "output_type": "stream",
     "text": [
      "Layer: conv2d, Trainable: False\n",
      "Layer: max_pooling2d, Trainable: False\n",
      "Layer: conv2d_1, Trainable: False\n",
      "Layer: max_pooling2d_1, Trainable: False\n",
      "Layer: flatten, Trainable: False\n",
      "Layer: dense, Trainable: False\n",
      "Layer: dense_1, Trainable: False\n",
      "Layer: dense_2, Trainable: False\n"
     ]
    }
   ],
   "source": [
    "# Check to make sure layers are non-trainable\n",
    "for layer in model.layers:\n",
    "    print(f\"Layer: {layer.name}, Trainable: {layer.trainable}\")"
   ]
  },
  {
   "cell_type": "code",
   "execution_count": 56,
   "metadata": {},
   "outputs": [
    {
     "name": "stderr",
     "output_type": "stream",
     "text": [
      "c:\\projects\\GenAI\\genai-venv\\lib\\site-packages\\keras\\src\\layers\\core\\input_layer.py:27: UserWarning: Argument `input_shape` is deprecated. Use `shape` instead.\n",
      "  warnings.warn(\n"
     ]
    },
    {
     "data": {
      "text/html": [
       "<pre style=\"white-space:pre;overflow-x:auto;line-height:normal;font-family:Menlo,'DejaVu Sans Mono',consolas,'Courier New',monospace\"><span style=\"font-weight: bold\">Model: \"sequential_1\"</span>\n",
       "</pre>\n"
      ],
      "text/plain": [
       "\u001b[1mModel: \"sequential_1\"\u001b[0m\n"
      ]
     },
     "metadata": {},
     "output_type": "display_data"
    },
    {
     "data": {
      "text/html": [
       "<pre style=\"white-space:pre;overflow-x:auto;line-height:normal;font-family:Menlo,'DejaVu Sans Mono',consolas,'Courier New',monospace\">┏━━━━━━━━━━━━━━━━━━━━━━━━━━━━━━━━━┳━━━━━━━━━━━━━━━━━━━━━━━━┳━━━━━━━━━━━━━━━┓\n",
       "┃<span style=\"font-weight: bold\"> Layer (type)                    </span>┃<span style=\"font-weight: bold\"> Output Shape           </span>┃<span style=\"font-weight: bold\">       Param # </span>┃\n",
       "┡━━━━━━━━━━━━━━━━━━━━━━━━━━━━━━━━━╇━━━━━━━━━━━━━━━━━━━━━━━━╇━━━━━━━━━━━━━━━┩\n",
       "│ sequential (<span style=\"color: #0087ff; text-decoration-color: #0087ff\">Sequential</span>)         │ (<span style=\"color: #00d7ff; text-decoration-color: #00d7ff\">None</span>, <span style=\"color: #00af00; text-decoration-color: #00af00\">2</span>)              │       <span style=\"color: #00af00; text-decoration-color: #00af00\">410,818</span> │\n",
       "├─────────────────────────────────┼────────────────────────┼───────────────┤\n",
       "│ flatten_1 (<span style=\"color: #0087ff; text-decoration-color: #0087ff\">Flatten</span>)             │ (<span style=\"color: #00d7ff; text-decoration-color: #00d7ff\">None</span>, <span style=\"color: #00af00; text-decoration-color: #00af00\">2</span>)              │             <span style=\"color: #00af00; text-decoration-color: #00af00\">0</span> │\n",
       "├─────────────────────────────────┼────────────────────────┼───────────────┤\n",
       "│ dense_2 (<span style=\"color: #0087ff; text-decoration-color: #0087ff\">Dense</span>)                 │ (<span style=\"color: #00d7ff; text-decoration-color: #00d7ff\">None</span>, <span style=\"color: #00af00; text-decoration-color: #00af00\">128</span>)            │           <span style=\"color: #00af00; text-decoration-color: #00af00\">384</span> │\n",
       "├─────────────────────────────────┼────────────────────────┼───────────────┤\n",
       "│ dropout_1 (<span style=\"color: #0087ff; text-decoration-color: #0087ff\">Dropout</span>)             │ (<span style=\"color: #00d7ff; text-decoration-color: #00d7ff\">None</span>, <span style=\"color: #00af00; text-decoration-color: #00af00\">128</span>)            │             <span style=\"color: #00af00; text-decoration-color: #00af00\">0</span> │\n",
       "├─────────────────────────────────┼────────────────────────┼───────────────┤\n",
       "│ dense_3 (<span style=\"color: #0087ff; text-decoration-color: #0087ff\">Dense</span>)                 │ (<span style=\"color: #00d7ff; text-decoration-color: #00d7ff\">None</span>, <span style=\"color: #00af00; text-decoration-color: #00af00\">8</span>)              │         <span style=\"color: #00af00; text-decoration-color: #00af00\">1,032</span> │\n",
       "└─────────────────────────────────┴────────────────────────┴───────────────┘\n",
       "</pre>\n"
      ],
      "text/plain": [
       "┏━━━━━━━━━━━━━━━━━━━━━━━━━━━━━━━━━┳━━━━━━━━━━━━━━━━━━━━━━━━┳━━━━━━━━━━━━━━━┓\n",
       "┃\u001b[1m \u001b[0m\u001b[1mLayer (type)                   \u001b[0m\u001b[1m \u001b[0m┃\u001b[1m \u001b[0m\u001b[1mOutput Shape          \u001b[0m\u001b[1m \u001b[0m┃\u001b[1m \u001b[0m\u001b[1m      Param #\u001b[0m\u001b[1m \u001b[0m┃\n",
       "┡━━━━━━━━━━━━━━━━━━━━━━━━━━━━━━━━━╇━━━━━━━━━━━━━━━━━━━━━━━━╇━━━━━━━━━━━━━━━┩\n",
       "│ sequential (\u001b[38;5;33mSequential\u001b[0m)         │ (\u001b[38;5;45mNone\u001b[0m, \u001b[38;5;34m2\u001b[0m)              │       \u001b[38;5;34m410,818\u001b[0m │\n",
       "├─────────────────────────────────┼────────────────────────┼───────────────┤\n",
       "│ flatten_1 (\u001b[38;5;33mFlatten\u001b[0m)             │ (\u001b[38;5;45mNone\u001b[0m, \u001b[38;5;34m2\u001b[0m)              │             \u001b[38;5;34m0\u001b[0m │\n",
       "├─────────────────────────────────┼────────────────────────┼───────────────┤\n",
       "│ dense_2 (\u001b[38;5;33mDense\u001b[0m)                 │ (\u001b[38;5;45mNone\u001b[0m, \u001b[38;5;34m128\u001b[0m)            │           \u001b[38;5;34m384\u001b[0m │\n",
       "├─────────────────────────────────┼────────────────────────┼───────────────┤\n",
       "│ dropout_1 (\u001b[38;5;33mDropout\u001b[0m)             │ (\u001b[38;5;45mNone\u001b[0m, \u001b[38;5;34m128\u001b[0m)            │             \u001b[38;5;34m0\u001b[0m │\n",
       "├─────────────────────────────────┼────────────────────────┼───────────────┤\n",
       "│ dense_3 (\u001b[38;5;33mDense\u001b[0m)                 │ (\u001b[38;5;45mNone\u001b[0m, \u001b[38;5;34m8\u001b[0m)              │         \u001b[38;5;34m1,032\u001b[0m │\n",
       "└─────────────────────────────────┴────────────────────────┴───────────────┘\n"
      ]
     },
     "metadata": {},
     "output_type": "display_data"
    },
    {
     "data": {
      "text/html": [
       "<pre style=\"white-space:pre;overflow-x:auto;line-height:normal;font-family:Menlo,'DejaVu Sans Mono',consolas,'Courier New',monospace\"><span style=\"font-weight: bold\"> Total params: </span><span style=\"color: #00af00; text-decoration-color: #00af00\">412,234</span> (1.57 MB)\n",
       "</pre>\n"
      ],
      "text/plain": [
       "\u001b[1m Total params: \u001b[0m\u001b[38;5;34m412,234\u001b[0m (1.57 MB)\n"
      ]
     },
     "metadata": {},
     "output_type": "display_data"
    },
    {
     "data": {
      "text/html": [
       "<pre style=\"white-space:pre;overflow-x:auto;line-height:normal;font-family:Menlo,'DejaVu Sans Mono',consolas,'Courier New',monospace\"><span style=\"font-weight: bold\"> Trainable params: </span><span style=\"color: #00af00; text-decoration-color: #00af00\">1,416</span> (5.53 KB)\n",
       "</pre>\n"
      ],
      "text/plain": [
       "\u001b[1m Trainable params: \u001b[0m\u001b[38;5;34m1,416\u001b[0m (5.53 KB)\n"
      ]
     },
     "metadata": {},
     "output_type": "display_data"
    },
    {
     "data": {
      "text/html": [
       "<pre style=\"white-space:pre;overflow-x:auto;line-height:normal;font-family:Menlo,'DejaVu Sans Mono',consolas,'Courier New',monospace\"><span style=\"font-weight: bold\"> Non-trainable params: </span><span style=\"color: #00af00; text-decoration-color: #00af00\">410,818</span> (1.57 MB)\n",
       "</pre>\n"
      ],
      "text/plain": [
       "\u001b[1m Non-trainable params: \u001b[0m\u001b[38;5;34m410,818\u001b[0m (1.57 MB)\n"
      ]
     },
     "metadata": {},
     "output_type": "display_data"
    }
   ],
   "source": [
    "# Add new layers for multi-class classification\n",
    "num_classes = 8\n",
    "new_model = keras.Sequential([\n",
    "    keras.layers.InputLayer(input_shape=(64, 64, 1)),  # Assuming input shape is (64, 64, 1)\n",
    "    model,\n",
    "    keras.layers.Flatten(),\n",
    "    keras.layers.Dense(128, activation='relu'),\n",
    "    keras.layers.Dropout(0.5),\n",
    "    # Assuming 8 classes for emotion recognition\n",
    "    # including Unknown\n",
    "    keras.layers.Dense(num_classes, activation='softmax')\n",
    "])\n",
    "new_model.summary()"
   ]
  },
  {
   "cell_type": "code",
   "execution_count": 57,
   "metadata": {},
   "outputs": [
    {
     "data": {
      "text/plain": [
       "<Sequential name=sequential_1, built=True>"
      ]
     },
     "execution_count": 57,
     "metadata": {},
     "output_type": "execute_result"
    }
   ],
   "source": [
    "# Compile the new model\n",
    "new_model.compile(optimizer='adam', loss='sparse_categorical_crossentropy', metrics=['Accuracy'])\n",
    "\n",
    "# Print the new model summary\n",
    "new_model"
   ]
  },
  {
   "cell_type": "code",
   "execution_count": 58,
   "metadata": {},
   "outputs": [
    {
     "name": "stdout",
     "output_type": "stream",
     "text": [
      "Epoch 1/30\n",
      "\u001b[1m884/884\u001b[0m \u001b[32m━━━━━━━━━━━━━━━━━━━━\u001b[0m\u001b[37m\u001b[0m \u001b[1m4s\u001b[0m 3ms/step - Accuracy: 0.2418 - loss: 1.8490 - val_Accuracy: 0.1250 - val_loss: 3.0619\n",
      "Epoch 2/30\n",
      "\u001b[1m884/884\u001b[0m \u001b[32m━━━━━━━━━━━━━━━━━━━━\u001b[0m\u001b[37m\u001b[0m \u001b[1m3s\u001b[0m 3ms/step - Accuracy: 0.2512 - loss: 1.7668 - val_Accuracy: 0.1250 - val_loss: 3.3936\n",
      "Epoch 3/30\n",
      "\u001b[1m884/884\u001b[0m \u001b[32m━━━━━━━━━━━━━━━━━━━━\u001b[0m\u001b[37m\u001b[0m \u001b[1m3s\u001b[0m 4ms/step - Accuracy: 0.2600 - loss: 1.7564 - val_Accuracy: 0.1250 - val_loss: 3.5213\n",
      "Epoch 4/30\n",
      "\u001b[1m884/884\u001b[0m \u001b[32m━━━━━━━━━━━━━━━━━━━━\u001b[0m\u001b[37m\u001b[0m \u001b[1m3s\u001b[0m 4ms/step - Accuracy: 0.2549 - loss: 1.7616 - val_Accuracy: 0.1250 - val_loss: 3.7184\n",
      "Epoch 5/30\n",
      "\u001b[1m884/884\u001b[0m \u001b[32m━━━━━━━━━━━━━━━━━━━━\u001b[0m\u001b[37m\u001b[0m \u001b[1m3s\u001b[0m 4ms/step - Accuracy: 0.2563 - loss: 1.7578 - val_Accuracy: 0.1250 - val_loss: 3.7935\n",
      "Epoch 6/30\n",
      "\u001b[1m884/884\u001b[0m \u001b[32m━━━━━━━━━━━━━━━━━━━━\u001b[0m\u001b[37m\u001b[0m \u001b[1m3s\u001b[0m 4ms/step - Accuracy: 0.2552 - loss: 1.7570 - val_Accuracy: 0.1250 - val_loss: 3.8255\n",
      "Epoch 6: early stopping\n",
      "Total Training Time taken:  0 Minutes\n"
     ]
    }
   ],
   "source": [
    "'''# Using Early stopping to reduce the training time'''\n",
    "\n",
    "call = EarlyStopping(\n",
    "    min_delta=0.005,\n",
    "    patience=5,\n",
    "    verbose=1\n",
    ")\n",
    "\n",
    "# Measuring the time taken by the model to train\n",
    "StartTime=time.time()\n",
    "\n",
    "'''# Model Training'''\n",
    "history = new_model.fit(\n",
    "    X_TRAIN, Y_TRAIN,\n",
    "    epochs=30,\n",
    "    validation_data=(X_VAL, Y_VAL),\n",
    "    callbacks=[call]\n",
    ")\n",
    "\n",
    "Endtime = time.time()\n",
    "print('Total Training Time taken: ',round((Endtime-StartTime)/60),'Minutes')"
   ]
  },
  {
   "cell_type": "code",
   "execution_count": 59,
   "metadata": {},
   "outputs": [
    {
     "data": {
      "image/png": "[encoded data removed]",
      "text/plain": [
       "<Figure size 1200x600 with 1 Axes>"
      ]
     },
     "metadata": {},
     "output_type": "display_data"
    },
    {
     "data": {
      "image/png": "[encoded data removed]",
      "text/plain": [
       "<Figure size 1200x600 with 1 Axes>"
      ]
     },
     "metadata": {},
     "output_type": "display_data"
    }
   ],
   "source": [
    "# Plotting Loss over time\n",
    "plt.figure(figsize=(12, 6))\n",
    "plt.plot(history.history['loss'], label='Training Loss')\n",
    "plt.plot(history.history['val_loss'], label='Validation Loss')\n",
    "plt.title('Human Face Detection Model Loss over time')\n",
    "plt.xlabel('Epochs')\n",
    "plt.ylabel('Loss')\n",
    "plt.legend()\n",
    "plt.show()\n",
    "\n",
    "# Plotting Accuracy over time\n",
    "plt.figure(figsize=(12, 6))\n",
    "plt.plot(history.history['Accuracy'], label='Training Accuracy')\n",
    "plt.plot(history.history['val_Accuracy'], label='Validation Accuracy')\n",
    "plt.title('Human Face Detection Model Accuracy over time')\n",
    "plt.xlabel('Epochs')\n",
    "plt.ylabel('Accuracy')\n",
    "plt.legend()\n",
    "plt.show()"
   ]
  },
  {
   "cell_type": "code",
   "execution_count": 60,
   "metadata": {},
   "outputs": [
    {
     "name": "stderr",
     "output_type": "stream",
     "text": [
      "WARNING:absl:You are saving your model as an HDF5 file via `model.save()` or `keras.saving.save_model(model)`. This file format is considered legacy. We recommend using instead the native Keras format, e.g. `model.save('my_model.keras')` or `keras.saving.save_model(model, 'my_model.keras')`. \n"
     ]
    },
    {
     "name": "stdout",
     "output_type": "stream",
     "text": [
      "Model Saved Successfully!\n"
     ]
    }
   ],
   "source": [
    "# Save the Model\n",
    "new_model.save(os.path.join(AI_MODEL_ROOT, 'facial_emotion_recognition_model.h5'))\n",
    "print(\"Model Saved Successfully!\")"
   ]
  },
  {
   "cell_type": "markdown",
   "metadata": {},
   "source": [
    "## Evaluating the Model"
   ]
  },
  {
   "cell_type": "code",
   "execution_count": 61,
   "metadata": {},
   "outputs": [
    {
     "name": "stdout",
     "output_type": "stream",
     "text": [
      "\u001b[1m234/234\u001b[0m \u001b[32m━━━━━━━━━━━━━━━━━━━━\u001b[0m\u001b[37m\u001b[0m \u001b[1m1s\u001b[0m 3ms/step\n"
     ]
    },
    {
     "data": {
      "text/plain": [
       "array([[1.42338559e-01, 1.37127787e-01, 2.56807476e-01, ...,\n",
       "        1.15596928e-01, 3.98447446e-05, 4.35546281e-05],\n",
       "       [1.44154504e-01, 1.32840410e-01, 2.51234055e-01, ...,\n",
       "        1.25760198e-01, 5.77888131e-05, 5.91085918e-05],\n",
       "       [1.44159585e-01, 1.36933610e-01, 2.56721437e-01, ...,\n",
       "        1.13506518e-01, 3.27594134e-05, 3.57728277e-05],\n",
       "       ...,\n",
       "       [1.44250542e-01, 1.36910260e-01, 2.56706715e-01, ...,\n",
       "        1.13406084e-01, 3.24446701e-05, 3.54237272e-05],\n",
       "       [1.44171774e-01, 1.36930600e-01, 2.56719351e-01, ...,\n",
       "        1.13493122e-01, 3.27182133e-05, 3.57270583e-05],\n",
       "       [1.43147483e-01, 1.37129784e-01, 2.56819457e-01, ...,\n",
       "        1.14640675e-01, 3.65120140e-05, 3.99101154e-05]],\n",
       "      shape=(7467, 8), dtype=float32)"
      ]
     },
     "execution_count": 61,
     "metadata": {},
     "output_type": "execute_result"
    }
   ],
   "source": [
    "# Make Predictions\n",
    "pred = new_model.predict(X_TEST)\n",
    "pred"
   ]
  },
  {
   "cell_type": "code",
   "execution_count": 62,
   "metadata": {},
   "outputs": [
    {
     "data": {
      "text/plain": [
       "array([2, 2, 2, ..., 2, 2, 2], shape=(7467,))"
      ]
     },
     "execution_count": 62,
     "metadata": {},
     "output_type": "execute_result"
    }
   ],
   "source": [
    "# One-Hot Decode the Predictions\n",
    "pred = np.argmax(pred, axis=1)\n",
    "pred"
   ]
  },
  {
   "cell_type": "code",
   "execution_count": 63,
   "metadata": {},
   "outputs": [],
   "source": [
    "evalArray = pred == Y_TEST"
   ]
  },
  {
   "cell_type": "code",
   "execution_count": 64,
   "metadata": {},
   "outputs": [
    {
     "name": "stdout",
     "output_type": "stream",
     "text": [
      "{np.int64(0): np.int64(1358), np.int64(1): np.int64(1024), np.int64(2): np.int64(1774), np.int64(3): np.int64(1233), np.int64(4): np.int64(1247), np.int64(5): np.int64(831)}\n"
     ]
    }
   ],
   "source": [
    "# Check the distribution of true labels in Y_TEST\n",
    "unique, counts = np.unique(Y_TEST, return_counts=True)\n",
    "label_distribution = dict(zip(unique, counts))\n",
    "\n",
    "print(label_distribution)"
   ]
  },
  {
   "cell_type": "markdown",
   "metadata": {},
   "source": [
    "Since our model did not make predictions on class 6 and 7 from the test data, we append 0 count to them."
   ]
  },
  {
   "cell_type": "code",
   "execution_count": 67,
   "metadata": {},
   "outputs": [],
   "source": [
    "# Append count for class 6 and class 7 to be 0\n",
    "for i in range(8):\n",
    "    if i not in label_distribution.keys():\n",
    "        label_distribution[i] = np.int64(0)"
   ]
  },
  {
   "cell_type": "code",
   "execution_count": 68,
   "metadata": {},
   "outputs": [
    {
     "name": "stdout",
     "output_type": "stream",
     "text": [
      "{np.int64(0): np.int64(1358), np.int64(1): np.int64(1024), np.int64(2): np.int64(1774), np.int64(3): np.int64(1233), np.int64(4): np.int64(1247), np.int64(5): np.int64(831), 6: np.int64(0), 7: np.int64(0)}\n"
     ]
    }
   ],
   "source": [
    "print(label_distribution)"
   ]
  },
  {
   "cell_type": "code",
   "execution_count": 72,
   "metadata": {},
   "outputs": [
    {
     "name": "stdout",
     "output_type": "stream",
     "text": [
      "Accuracy: 0.23757867952323558\n",
      "Precision: 0.03959644658720593\n",
      "Recall: 0.16666666666666666\n",
      "Macro F1 Score: 0.06399018865202179\n",
      "Micro F1 Score: 0.23757867952323558\n"
     ]
    },
    {
     "name": "stderr",
     "output_type": "stream",
     "text": [
      "c:\\projects\\GenAI\\genai-venv\\lib\\site-packages\\sklearn\\metrics\\_classification.py:1565: UndefinedMetricWarning: Precision is ill-defined and being set to 0.0 in labels with no predicted samples. Use `zero_division` parameter to control this behavior.\n",
      "  _warn_prf(average, modifier, f\"{metric.capitalize()} is\", len(result))\n",
      "c:\\projects\\GenAI\\genai-venv\\lib\\site-packages\\sklearn\\metrics\\_ranking.py:1188: UndefinedMetricWarning: No positive samples in y_true, true positive value should be meaningless\n",
      "  warnings.warn(\n",
      "c:\\projects\\GenAI\\genai-venv\\lib\\site-packages\\sklearn\\metrics\\_ranking.py:1188: UndefinedMetricWarning: No positive samples in y_true, true positive value should be meaningless\n",
      "  warnings.warn(\n"
     ]
    },
    {
     "data": {
      "image/png": "[encoded data removed]",
      "text/plain": [
       "<Figure size 640x480 with 1 Axes>"
      ]
     },
     "metadata": {},
     "output_type": "display_data"
    }
   ],
   "source": [
    "# Decode the Labels with Label Encoder\n",
    "encoderTest_apollo = pickle.load(open(os.path.join(\n",
    "    AI_MODEL_ROOT, \n",
    "    'dataset',\n",
    "    'apollo2506',\n",
    "    'facial-recognition-dataset',\n",
    "    'encoder_y_test.pkl'\n",
    "), 'rb'))\n",
    "encoderTest_tapakah = np.load(open(os.path.join(\n",
    "    AI_MODEL_ROOT, \n",
    "    'dataset',\n",
    "    'tapakah68',\n",
    "    'facial-emotion-recognition',\n",
    "    'encoders',\n",
    "    'encoder_test.npy'\n",
    "), 'rb'), allow_pickle=True)\n",
    "\n",
    "# X_TEST is a combination of both the datasets\n",
    "# Y_TEST is the ground truth\n",
    "# Goal: compare the predictions with the ground truth\n",
    "# Evaluate accuracy\n",
    "accuracy = accuracy_score(Y_TEST, pred)\n",
    "print(f\"Accuracy: {accuracy}\")\n",
    "\n",
    "# Evaluate precision\n",
    "precision = precision_score(Y_TEST, pred, average='macro')\n",
    "print(f\"Precision: {precision}\")\n",
    "\n",
    "# Evaluate recall\n",
    "recall = recall_score(Y_TEST, pred, average='macro')\n",
    "print(f\"Recall: {recall}\")\n",
    "\n",
    "# Evaluate macro and micro F1 scores\n",
    "macro_f1 = f1_score(Y_TEST, pred, average='macro')\n",
    "micro_f1 = f1_score(Y_TEST, pred, average='micro')\n",
    "print(f\"Macro F1 Score: {macro_f1}\")\n",
    "print(f\"Micro F1 Score: {micro_f1}\")\n",
    "\n",
    "# One-hot encode the true labels and predictions\n",
    "Y_TEST_one_hot = keras.utils.to_categorical(Y_TEST, num_classes=num_classes)\n",
    "pred_one_hot = keras.utils.to_categorical(pred, num_classes=num_classes)\n",
    "\n",
    "# Plot ROC-AUC curve for each class\n",
    "plt.figure()\n",
    "for i in range(num_classes):\n",
    "    fpr, tpr, _ = roc_curve(Y_TEST_one_hot[:, i], pred_one_hot[:, i])\n",
    "    roc_auc = auc(fpr, tpr)\n",
    "    if np.isnan(roc_auc):\n",
    "        roc_auc = 0.0\n",
    "    plt.plot(fpr, tpr, lw=2, label=f'Class {i} ROC curve (area = {roc_auc:.2f})')\n",
    "\n",
    "plt.plot([0, 1], [0, 1], color='navy', lw=2, linestyle='--')\n",
    "plt.xlim([0.0, 1.0])\n",
    "plt.ylim([0.0, 1.05])\n",
    "plt.xlabel('False Positive Rate')\n",
    "plt.ylabel('True Positive Rate')\n",
    "plt.title('Receiver Operating Characteristic (ROC) Curve')\n",
    "plt.legend(loc=\"lower right\")\n",
    "plt.show()"
   ]
  },
  {
   "cell_type": "code",
   "execution_count": null,
   "metadata": {},
   "outputs": [
    {
     "name": "stdout",
     "output_type": "stream",
     "text": [
      "Predicting the 286 image from test set: \n"
     ]
    },
    {
     "data": {
      "image/png": "[encoded data removed]",
      "text/plain": [
       "<Figure size 640x480 with 1 Axes>"
      ]
     },
     "metadata": {},
     "output_type": "display_data"
    },
    {
     "ename": "ValueError",
     "evalue": "y contains previously unseen labels: [2]",
     "output_type": "error",
     "traceback": [
      "\u001b[1;31m---------------------------------------------------------------------------\u001b[0m",
      "\u001b[1;31mValueError\u001b[0m                                Traceback (most recent call last)",
      "Cell \u001b[1;32mIn[74], line 17\u001b[0m\n\u001b[0;32m      8\u001b[0m plt\u001b[38;5;241m.\u001b[39mshow()\n\u001b[0;32m     10\u001b[0m encoder \u001b[38;5;241m=\u001b[39m pickle\u001b[38;5;241m.\u001b[39mload(\u001b[38;5;28mopen\u001b[39m(os\u001b[38;5;241m.\u001b[39mpath\u001b[38;5;241m.\u001b[39mjoin(\n\u001b[0;32m     11\u001b[0m     AI_MODEL_ROOT,\n\u001b[0;32m     12\u001b[0m     \u001b[38;5;124m'\u001b[39m\u001b[38;5;124mdataset\u001b[39m\u001b[38;5;124m'\u001b[39m,\n\u001b[1;32m   (...)\u001b[0m\n\u001b[0;32m     15\u001b[0m     \u001b[38;5;124m'\u001b[39m\u001b[38;5;124mencoderTest.pkl\u001b[39m\u001b[38;5;124m'\u001b[39m\n\u001b[0;32m     16\u001b[0m ), \u001b[38;5;124m'\u001b[39m\u001b[38;5;124mrb\u001b[39m\u001b[38;5;124m'\u001b[39m))\n\u001b[1;32m---> 17\u001b[0m pred_item_text \u001b[38;5;241m=\u001b[39m \u001b[43mdecode_labels\u001b[49m\u001b[43m(\u001b[49m\n\u001b[0;32m     18\u001b[0m \u001b[43m    \u001b[49m\u001b[43mencoded_labels\u001b[49m\u001b[38;5;241;43m=\u001b[39;49m\u001b[43m[\u001b[49m\u001b[43mpred_item\u001b[49m\u001b[43m]\u001b[49m\u001b[43m,\u001b[49m\n\u001b[0;32m     19\u001b[0m \u001b[43m    \u001b[49m\u001b[43mencoder\u001b[49m\u001b[38;5;241;43m=\u001b[39;49m\u001b[43mencoder\u001b[49m\n\u001b[0;32m     20\u001b[0m \u001b[43m)\u001b[49m[\u001b[38;5;241m0\u001b[39m]\n\u001b[0;32m     21\u001b[0m actual_item_text \u001b[38;5;241m=\u001b[39m decode_labels(\n\u001b[0;32m     22\u001b[0m     encoded_labels\u001b[38;5;241m=\u001b[39m[actual_item],\n\u001b[0;32m     23\u001b[0m     encoder\u001b[38;5;241m=\u001b[39mencoder\n\u001b[0;32m     24\u001b[0m )[\u001b[38;5;241m0\u001b[39m]\n\u001b[0;32m     25\u001b[0m \u001b[38;5;28mprint\u001b[39m(\u001b[38;5;124mf\u001b[39m\u001b[38;5;124m\"\u001b[39m\u001b[38;5;124mThe above image is predicted as: \u001b[39m\u001b[38;5;132;01m{\u001b[39;00mpred_item_text\u001b[38;5;132;01m}\u001b[39;00m\u001b[38;5;124m\"\u001b[39m)\n",
      "File \u001b[1;32mC:\\projects\\GenAI\\AI_Model\\image_preprocessing.py:17\u001b[0m, in \u001b[0;36mdecode_labels\u001b[1;34m(encoded_labels, encoder)\u001b[0m\n\u001b[0;32m     16\u001b[0m \u001b[38;5;28;01mdef\u001b[39;00m\u001b[38;5;250m \u001b[39m\u001b[38;5;21mdecode_labels\u001b[39m(encoded_labels: np\u001b[38;5;241m.\u001b[39mndarray, encoder: LabelEncoder) \u001b[38;5;241m-\u001b[39m\u001b[38;5;241m>\u001b[39m \u001b[38;5;28mlist\u001b[39m:\n\u001b[1;32m---> 17\u001b[0m     \u001b[38;5;28;01mreturn\u001b[39;00m \u001b[43mencoder\u001b[49m\u001b[38;5;241;43m.\u001b[39;49m\u001b[43minverse_transform\u001b[49m\u001b[43m(\u001b[49m\u001b[43mencoded_labels\u001b[49m\u001b[43m)\u001b[49m\n",
      "File \u001b[1;32mc:\\projects\\GenAI\\genai-venv\\lib\\site-packages\\sklearn\\preprocessing\\_label.py:162\u001b[0m, in \u001b[0;36mLabelEncoder.inverse_transform\u001b[1;34m(self, y)\u001b[0m\n\u001b[0;32m    156\u001b[0m diff \u001b[38;5;241m=\u001b[39m _setdiff1d(\n\u001b[0;32m    157\u001b[0m     ar1\u001b[38;5;241m=\u001b[39my,\n\u001b[0;32m    158\u001b[0m     ar2\u001b[38;5;241m=\u001b[39mxp\u001b[38;5;241m.\u001b[39marange(\u001b[38;5;28mself\u001b[39m\u001b[38;5;241m.\u001b[39mclasses_\u001b[38;5;241m.\u001b[39mshape[\u001b[38;5;241m0\u001b[39m], device\u001b[38;5;241m=\u001b[39mdevice(y)),\n\u001b[0;32m    159\u001b[0m     xp\u001b[38;5;241m=\u001b[39mxp,\n\u001b[0;32m    160\u001b[0m )\n\u001b[0;32m    161\u001b[0m \u001b[38;5;28;01mif\u001b[39;00m diff\u001b[38;5;241m.\u001b[39mshape[\u001b[38;5;241m0\u001b[39m]:\n\u001b[1;32m--> 162\u001b[0m     \u001b[38;5;28;01mraise\u001b[39;00m \u001b[38;5;167;01mValueError\u001b[39;00m(\u001b[38;5;124m\"\u001b[39m\u001b[38;5;124my contains previously unseen labels: \u001b[39m\u001b[38;5;132;01m%s\u001b[39;00m\u001b[38;5;124m\"\u001b[39m \u001b[38;5;241m%\u001b[39m \u001b[38;5;28mstr\u001b[39m(diff))\n\u001b[0;32m    163\u001b[0m y \u001b[38;5;241m=\u001b[39m xp\u001b[38;5;241m.\u001b[39masarray(y)\n\u001b[0;32m    164\u001b[0m \u001b[38;5;28;01mreturn\u001b[39;00m xp\u001b[38;5;241m.\u001b[39mtake(\u001b[38;5;28mself\u001b[39m\u001b[38;5;241m.\u001b[39mclasses_, y, axis\u001b[38;5;241m=\u001b[39m\u001b[38;5;241m0\u001b[39m)\n",
      "\u001b[1;31mValueError\u001b[0m: y contains previously unseen labels: [2]"
     ]
    }
   ],
   "source": [
    "# Show a random prediction in human readable format\n",
    "index = random.randint(0, len(pred))\n",
    "image = X_TEST[index]\n",
    "pred_item = pred[index]\n",
    "actual_item = Y_TEST[index]\n",
    "print(f\"Predicting the {index} image from test set: \")\n",
    "plt.imshow(image)\n",
    "plt.show()\n",
    "\n",
    "encoder = encoderTest_apollo\n",
    "pred_item_text = decode_labels(\n",
    "    encoded_labels=[pred_item],\n",
    "    encoder=encoder\n",
    ")[0]\n",
    "actual_item_text = decode_labels(\n",
    "    encoded_labels=[actual_item],\n",
    "    encoder=encoder\n",
    ")[0]\n",
    "print(f\"The above image is predicted as: {pred_item_text}\")\n",
    "print(f\"The actual label of the image is: {actual_item_text}\")"
   ]
  }
 ],
 "metadata": {
  "kernelspec": {
   "display_name": "genai-venv",
   "language": "python",
   "name": "python3"
  },
  "language_info": {
   "codemirror_mode": {
    "name": "ipython",
    "version": 3
   },
   "file_extension": ".py",
   "mimetype": "text/x-python",
   "name": "python",
   "nbconvert_exporter": "python",
   "pygments_lexer": "ipython3",
   "version": "3.10.7"
  }
 },
 "nbformat": 4,
 "nbformat_minor": 2
}
