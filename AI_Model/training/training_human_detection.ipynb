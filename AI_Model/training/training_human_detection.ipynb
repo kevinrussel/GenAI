{
 "cells": [
  {
   "cell_type": "markdown",
   "metadata": {},
   "source": [
    "# Training - Human Face Detection Task"
   ]
  },
  {
   "cell_type": "code",
   "execution_count": 50,
   "metadata": {},
   "outputs": [],
   "source": [
    "import os\n",
    "import numpy as np\n",
    "import tensorflow as tf\n",
    "from tensorflow import keras\n",
    "from keras.callbacks import EarlyStopping\n",
    "import time\n",
    "import matplotlib.pyplot as plt\n",
    "import random"
   ]
  },
  {
   "cell_type": "code",
   "execution_count": 3,
   "metadata": {},
   "outputs": [],
   "source": [
    "import sys\n",
    "AI_MODEL_ROOT = os.path.join(\n",
    "    os.path.dirname(os.path.realpath(os.curdir)),\n",
    ")\n",
    "sys.path.append(AI_MODEL_ROOT)"
   ]
  },
  {
   "cell_type": "code",
   "execution_count": 51,
   "metadata": {},
   "outputs": [],
   "source": [
    "import constants\n",
    "import pickle\n",
    "from sklearn.metrics import accuracy_score, precision_score, recall_score, f1_score, roc_auc_score, roc_curve, auc\n",
    "from image_preprocessing import decode_labels"
   ]
  },
  {
   "cell_type": "markdown",
   "metadata": {},
   "source": [
    "## Load the Processed Data"
   ]
  },
  {
   "cell_type": "code",
   "execution_count": 5,
   "metadata": {},
   "outputs": [],
   "source": [
    "# Define Paths\n",
    "TRAIN_PATHS = [\n",
    "    # aliasgartaksali\n",
    "    os.path.join(\n",
    "        os.path.dirname(os.path.realpath(os.curdir)),\n",
    "        'dataset',\n",
    "        'aliasgartaksali',\n",
    "        'human-and-non-human'\n",
    "    ),\n",
    "    # ashwingupta3012\n",
    "    os.path.join(\n",
    "        os.path.dirname(os.path.realpath(os.curdir)),\n",
    "        'dataset',\n",
    "        'ashwingupta3012',\n",
    "        'human-faces'\n",
    "    )\n",
    "]\n",
    "VAL_PATH = [\n",
    "    # olivetti_faces\n",
    "    os.path.join(\n",
    "        os.path.dirname(os.path.realpath(os.curdir)),\n",
    "        'dataset',\n",
    "        'olivetti_faces'\n",
    "    )\n",
    "]"
   ]
  },
  {
   "cell_type": "code",
   "execution_count": 6,
   "metadata": {},
   "outputs": [
    {
     "name": "stdout",
     "output_type": "stream",
     "text": [
      "Extracting Data from C:\\projects\\GenAI\\AI_Model\\dataset\\aliasgartaksali\\human-and-non-human\n",
      "Data Extracted Successfully from C:\\projects\\GenAI\\AI_Model\\dataset\\aliasgartaksali\\human-and-non-human\n",
      "Data Extracted Successfully from C:\\projects\\GenAI\\AI_Model\\dataset\\aliasgartaksali\\human-and-non-human\n",
      "Extracting Data from C:\\projects\\GenAI\\AI_Model\\dataset\\ashwingupta3012\\human-faces\n",
      "Data Extracted Successfully from C:\\projects\\GenAI\\AI_Model\\dataset\\ashwingupta3012\\human-faces\n",
      "Data Extracted Successfully from C:\\projects\\GenAI\\AI_Model\\dataset\\ashwingupta3012\\human-faces\n"
     ]
    }
   ],
   "source": [
    "X_TRAIN = np.array([])\n",
    "Y_TRAIN = np.array([])\n",
    "X_TEST = np.array([])\n",
    "Y_TEST = np.array([])\n",
    "\n",
    "for path in TRAIN_PATHS:\n",
    "    print(\"Extracting Data from\", path)\n",
    "    if 'features' in os.listdir(path):\n",
    "        X_train_new = np.load(os.path.join(path, 'features', 'X_train.npy'))\n",
    "        X_test_new = np.load(os.path.join(path, 'features', 'X_test.npy'))\n",
    "\n",
    "        if X_TRAIN.size == 0:\n",
    "            X_TRAIN = X_train_new\n",
    "        else:\n",
    "            X_TRAIN = np.concatenate((X_TRAIN, X_train_new), axis=0)\n",
    "            \n",
    "        if X_TEST.size == 0:\n",
    "            X_TEST = X_test_new\n",
    "        else:\n",
    "            X_TEST = np.concatenate((X_TEST, X_test_new), axis=0)\n",
    "        print(f\"Data Extracted Successfully from {path}\")\n",
    "    if 'labels' in os.listdir(path):\n",
    "        y_train_new = np.load(os.path.join(path, 'labels', 'y_train.npy'))\n",
    "        y_test_new = np.load(os.path.join(path, 'labels', 'y_test.npy'))\n",
    "\n",
    "        if Y_TRAIN.size == 0:\n",
    "            Y_TRAIN = y_train_new\n",
    "        else:\n",
    "            Y_TRAIN = np.concatenate((Y_TRAIN, y_train_new), axis=0)\n",
    "        \n",
    "        if Y_TEST.size == 0:\n",
    "            Y_TEST = y_test_new\n",
    "        else:\n",
    "            Y_TEST = np.concatenate((Y_TEST, y_test_new), axis=0)\n",
    "        print(f\"Data Extracted Successfully from {path}\")\n"
   ]
  },
  {
   "cell_type": "code",
   "execution_count": 7,
   "metadata": {},
   "outputs": [
    {
     "name": "stdout",
     "output_type": "stream",
     "text": [
      "Shape of X_TRAIN: (8417, 64, 64)\n",
      "Shape of Y_TRAIN: (8417,)\n",
      "Shape of X_TEST: (2823, 64, 64)\n",
      "Shape of Y_TEST: (2823,)\n"
     ]
    }
   ],
   "source": [
    "print(f\"Shape of X_TRAIN: {X_TRAIN.shape}\")\n",
    "print(f\"Shape of Y_TRAIN: {Y_TRAIN.shape}\")\n",
    "print(f\"Shape of X_TEST: {X_TEST.shape}\")\n",
    "print(f\"Shape of Y_TEST: {Y_TEST.shape}\")"
   ]
  },
  {
   "cell_type": "code",
   "execution_count": 8,
   "metadata": {},
   "outputs": [
    {
     "name": "stdout",
     "output_type": "stream",
     "text": [
      "Extracting Data from C:\\projects\\GenAI\\AI_Model\\dataset\\olivetti_faces\n",
      "Data Extracted Successfully from C:\\projects\\GenAI\\AI_Model\\dataset\\olivetti_faces\n"
     ]
    }
   ],
   "source": [
    "X_VAL = np.array([])\n",
    "Y_VAL = np.array([])\n",
    "\n",
    "for path in VAL_PATH:\n",
    "    print(\"Extracting Data from\", path)\n",
    "    if 'features' in os.listdir(path):\n",
    "        X_val_new = np.load(open(os.path.join(path, 'features', 'olivetti_faces_preprocessed.npy'), 'rb'))\n",
    "        if X_VAL.size == 0:\n",
    "            X_VAL = X_val_new\n",
    "        else:\n",
    "            X_VAL = np.concatenate((X_VAL, X_val_new), axis=0)\n",
    "    if 'label' in os.listdir(path):\n",
    "        y_val_new = np.load(open(os.path.join(path, 'label', 'is_human_label.npy'), 'rb'))\n",
    "        if Y_VAL.size == 0:\n",
    "            Y_VAL = y_val_new\n",
    "        else:\n",
    "            Y_VAL = np.concatenate((Y_VAL, y_val_new), axis=0)\n",
    "    print(f\"Data Extracted Successfully from {path}\")\n",
    "assert X_VAL.shape[0] == Y_VAL.shape[0]"
   ]
  },
  {
   "cell_type": "code",
   "execution_count": 9,
   "metadata": {},
   "outputs": [
    {
     "data": {
      "text/plain": [
       "((400, 64, 64), (400,))"
      ]
     },
     "execution_count": 9,
     "metadata": {},
     "output_type": "execute_result"
    }
   ],
   "source": [
    "X_VAL.shape, Y_VAL.shape"
   ]
  },
  {
   "cell_type": "markdown",
   "metadata": {},
   "source": [
    "## Construct a Network"
   ]
  },
  {
   "cell_type": "markdown",
   "metadata": {},
   "source": [
    "Guide: https://medium.com/@raguwing/face-recognition-using-cnn-architecture-in-python-f3c302c2164f"
   ]
  },
  {
   "cell_type": "code",
   "execution_count": 10,
   "metadata": {},
   "outputs": [],
   "source": [
    "from keras.models import Sequential\n",
    "from keras.layers import Conv2D, MaxPool2D, Flatten, Dense"
   ]
  },
  {
   "cell_type": "code",
   "execution_count": 11,
   "metadata": {},
   "outputs": [
    {
     "data": {
      "text/plain": [
       "<Sequential name=sequential, built=False>"
      ]
     },
     "execution_count": 11,
     "metadata": {},
     "output_type": "execute_result"
    }
   ],
   "source": [
    "Model = Sequential()\n",
    "Model"
   ]
  },
  {
   "cell_type": "code",
   "execution_count": 12,
   "metadata": {},
   "outputs": [
    {
     "name": "stderr",
     "output_type": "stream",
     "text": [
      "c:\\projects\\GenAI\\genai-venv\\lib\\site-packages\\keras\\src\\layers\\convolutional\\base_conv.py:107: UserWarning: Do not pass an `input_shape`/`input_dim` argument to a layer. When using Sequential models, prefer using an `Input(shape)` object as the first layer in the model instead.\n",
      "  super().__init__(activity_regularizer=activity_regularizer, **kwargs)\n"
     ]
    },
    {
     "data": {
      "text/plain": [
       "<Sequential name=sequential, built=True>"
      ]
     },
     "execution_count": 12,
     "metadata": {},
     "output_type": "execute_result"
    }
   ],
   "source": [
    "''' STEP--1 Convolution\n",
    "# Adding the first layer of CNN\n",
    "# we are using the format (64,64) because we are using TensorFlow backend\n",
    "# It means 3 matrix of size (64x64)) pixels representing Red, Green and Blue components of pixels\n",
    "'''\n",
    "\n",
    "# Add a channel dimension to the input shape\n",
    "input_shape = (constants.img_height, constants.img_width, 1)  # Assuming grayscale images\n",
    "\n",
    "Model.add(Conv2D(16, kernel_size=(5,5), strides=(1,1), input_shape=input_shape, activation='relu'))\n",
    "Model"
   ]
  },
  {
   "cell_type": "code",
   "execution_count": 13,
   "metadata": {},
   "outputs": [
    {
     "data": {
      "text/plain": [
       "<Sequential name=sequential, built=True>"
      ]
     },
     "execution_count": 13,
     "metadata": {},
     "output_type": "execute_result"
    }
   ],
   "source": [
    "'''# Maxplooing layer'''\n",
    "\n",
    "Model.add(MaxPool2D(pool_size=(2,2)))\n",
    "Model"
   ]
  },
  {
   "cell_type": "code",
   "execution_count": 14,
   "metadata": {},
   "outputs": [
    {
     "data": {
      "text/plain": [
       "<Sequential name=sequential, built=True>"
      ]
     },
     "execution_count": 14,
     "metadata": {},
     "output_type": "execute_result"
    }
   ],
   "source": [
    "'''Adding additional layers  of convolution and \n",
    "        maxpooling for better model accuracy and performance'''\n",
    "\n",
    "Model.add(Conv2D(32,kernel_size=(3,3),strides=(1,1),activation='relu'))\n",
    "Model.add(MaxPool2D(pool_size=(2,2)))\n",
    "Model"
   ]
  },
  {
   "cell_type": "code",
   "execution_count": 15,
   "metadata": {},
   "outputs": [
    {
     "data": {
      "text/plain": [
       "<Sequential name=sequential, built=True>"
      ]
     },
     "execution_count": 15,
     "metadata": {},
     "output_type": "execute_result"
    }
   ],
   "source": [
    "'''# Add a flatten layer to convert the vector to one dimensional'''\n",
    "Model.add(Flatten())\n",
    "Model"
   ]
  },
  {
   "cell_type": "code",
   "execution_count": 17,
   "metadata": {},
   "outputs": [
    {
     "data": {
      "text/plain": [
       "<Sequential name=sequential, built=True>"
      ]
     },
     "execution_count": 17,
     "metadata": {},
     "output_type": "execute_result"
    }
   ],
   "source": [
    "'''Add dense layers and Initialize weights using \n",
    "                kernal initializer for better learing of image features and classification'''\n",
    "\n",
    "Model.add(Dense(64,activation='relu'))\n",
    "Model.add(Dense(64,activation='relu'))\n",
    "Model.add(Dense(2, activation='softmax'))\n",
    "Model"
   ]
  },
  {
   "cell_type": "code",
   "execution_count": 18,
   "metadata": {},
   "outputs": [
    {
     "data": {
      "text/plain": [
       "<Sequential name=sequential, built=True>"
      ]
     },
     "execution_count": 18,
     "metadata": {},
     "output_type": "execute_result"
    }
   ],
   "source": [
    "'''Perform Model Compilation'''\n",
    "\n",
    "Model.compile(loss='categorical_crossentropy',optimizer = 'adam',metrics = ['Accuracy'])\n",
    "Model"
   ]
  },
  {
   "cell_type": "code",
   "execution_count": 19,
   "metadata": {},
   "outputs": [],
   "source": [
    "from keras.utils import to_categorical\n",
    "\n",
    "# One-hot encode the labels\n",
    "num_classes = 2\n",
    "Y_TRAIN = to_categorical(Y_TRAIN, num_classes=num_classes)\n",
    "Y_VAL = to_categorical(Y_VAL, num_classes=num_classes)"
   ]
  },
  {
   "cell_type": "code",
   "execution_count": 20,
   "metadata": {},
   "outputs": [
    {
     "data": {
      "text/plain": [
       "((8417, 2), (400, 2))"
      ]
     },
     "execution_count": 20,
     "metadata": {},
     "output_type": "execute_result"
    }
   ],
   "source": [
    "Y_TRAIN.shape, Y_VAL.shape"
   ]
  },
  {
   "cell_type": "code",
   "execution_count": 22,
   "metadata": {},
   "outputs": [
    {
     "name": "stdout",
     "output_type": "stream",
     "text": [
      "Epoch 1/30\n",
      "\u001b[1m264/264\u001b[0m \u001b[32m━━━━━━━━━━━━━━━━━━━━\u001b[0m\u001b[37m\u001b[0m \u001b[1m4s\u001b[0m 13ms/step - Accuracy: 0.9812 - loss: 0.0505 - val_Accuracy: 0.0425 - val_loss: 2.5789\n",
      "Epoch 2/30\n",
      "\u001b[1m264/264\u001b[0m \u001b[32m━━━━━━━━━━━━━━━━━━━━\u001b[0m\u001b[37m\u001b[0m \u001b[1m3s\u001b[0m 13ms/step - Accuracy: 0.9581 - loss: 0.1089 - val_Accuracy: 0.0075 - val_loss: 4.1224\n",
      "Epoch 3/30\n",
      "\u001b[1m264/264\u001b[0m \u001b[32m━━━━━━━━━━━━━━━━━━━━\u001b[0m\u001b[37m\u001b[0m \u001b[1m4s\u001b[0m 15ms/step - Accuracy: 0.9842 - loss: 0.0405 - val_Accuracy: 0.0000e+00 - val_loss: 4.6587\n",
      "Epoch 4/30\n",
      "\u001b[1m264/264\u001b[0m \u001b[32m━━━━━━━━━━━━━━━━━━━━\u001b[0m\u001b[37m\u001b[0m \u001b[1m4s\u001b[0m 15ms/step - Accuracy: 0.9914 - loss: 0.0229 - val_Accuracy: 0.0025 - val_loss: 4.7716\n",
      "Epoch 5/30\n",
      "\u001b[1m264/264\u001b[0m \u001b[32m━━━━━━━━━━━━━━━━━━━━\u001b[0m\u001b[37m\u001b[0m \u001b[1m4s\u001b[0m 15ms/step - Accuracy: 0.9934 - loss: 0.0171 - val_Accuracy: 0.0575 - val_loss: 4.1310\n",
      "Epoch 6/30\n",
      "\u001b[1m264/264\u001b[0m \u001b[32m━━━━━━━━━━━━━━━━━━━━\u001b[0m\u001b[37m\u001b[0m \u001b[1m4s\u001b[0m 15ms/step - Accuracy: 0.9970 - loss: 0.0105 - val_Accuracy: 0.0500 - val_loss: 4.2834\n",
      "Epoch 6: early stopping\n",
      "Total Training Time taken:  0 Minutes\n"
     ]
    }
   ],
   "source": [
    "'''# Using Early stopping to reduce the training time'''\n",
    "\n",
    "call = EarlyStopping(\n",
    "    min_delta=0.005,\n",
    "    patience=5,\n",
    "    verbose=1\n",
    ")\n",
    "\n",
    "# Measuring the time taken by the model to train\n",
    "StartTime=time.time()\n",
    "\n",
    "'''# Model Training'''\n",
    "history = Model.fit(\n",
    "    X_TRAIN, Y_TRAIN,\n",
    "    epochs=30,\n",
    "    validation_data=(X_VAL, Y_VAL),\n",
    "    callbacks=[call]\n",
    ")\n",
    "\n",
    "Endtime = time.time()\n",
    "print('Total Training Time taken: ',round((Endtime-StartTime)/60),'Minutes')"
   ]
  },
  {
   "cell_type": "code",
   "execution_count": 34,
   "metadata": {},
   "outputs": [
    {
     "data": {
      "text/html": [
       "<pre style=\"white-space:pre;overflow-x:auto;line-height:normal;font-family:Menlo,'DejaVu Sans Mono',consolas,'Courier New',monospace\"><span style=\"font-weight: bold\">Model: \"sequential\"</span>\n",
       "</pre>\n"
      ],
      "text/plain": [
       "\u001b[1mModel: \"sequential\"\u001b[0m\n"
      ]
     },
     "metadata": {},
     "output_type": "display_data"
    },
    {
     "data": {
      "text/html": [
       "<pre style=\"white-space:pre;overflow-x:auto;line-height:normal;font-family:Menlo,'DejaVu Sans Mono',consolas,'Courier New',monospace\">┏━━━━━━━━━━━━━━━━━━━━━━━━━━━━━━━━━┳━━━━━━━━━━━━━━━━━━━━━━━━┳━━━━━━━━━━━━━━━┓\n",
       "┃<span style=\"font-weight: bold\"> Layer (type)                    </span>┃<span style=\"font-weight: bold\"> Output Shape           </span>┃<span style=\"font-weight: bold\">       Param # </span>┃\n",
       "┡━━━━━━━━━━━━━━━━━━━━━━━━━━━━━━━━━╇━━━━━━━━━━━━━━━━━━━━━━━━╇━━━━━━━━━━━━━━━┩\n",
       "│ conv2d (<span style=\"color: #0087ff; text-decoration-color: #0087ff\">Conv2D</span>)                 │ (<span style=\"color: #00d7ff; text-decoration-color: #00d7ff\">None</span>, <span style=\"color: #00af00; text-decoration-color: #00af00\">60</span>, <span style=\"color: #00af00; text-decoration-color: #00af00\">60</span>, <span style=\"color: #00af00; text-decoration-color: #00af00\">16</span>)     │           <span style=\"color: #00af00; text-decoration-color: #00af00\">416</span> │\n",
       "├─────────────────────────────────┼────────────────────────┼───────────────┤\n",
       "│ max_pooling2d (<span style=\"color: #0087ff; text-decoration-color: #0087ff\">MaxPooling2D</span>)    │ (<span style=\"color: #00d7ff; text-decoration-color: #00d7ff\">None</span>, <span style=\"color: #00af00; text-decoration-color: #00af00\">30</span>, <span style=\"color: #00af00; text-decoration-color: #00af00\">30</span>, <span style=\"color: #00af00; text-decoration-color: #00af00\">16</span>)     │             <span style=\"color: #00af00; text-decoration-color: #00af00\">0</span> │\n",
       "├─────────────────────────────────┼────────────────────────┼───────────────┤\n",
       "│ conv2d_1 (<span style=\"color: #0087ff; text-decoration-color: #0087ff\">Conv2D</span>)               │ (<span style=\"color: #00d7ff; text-decoration-color: #00d7ff\">None</span>, <span style=\"color: #00af00; text-decoration-color: #00af00\">28</span>, <span style=\"color: #00af00; text-decoration-color: #00af00\">28</span>, <span style=\"color: #00af00; text-decoration-color: #00af00\">32</span>)     │         <span style=\"color: #00af00; text-decoration-color: #00af00\">4,640</span> │\n",
       "├─────────────────────────────────┼────────────────────────┼───────────────┤\n",
       "│ max_pooling2d_1 (<span style=\"color: #0087ff; text-decoration-color: #0087ff\">MaxPooling2D</span>)  │ (<span style=\"color: #00d7ff; text-decoration-color: #00d7ff\">None</span>, <span style=\"color: #00af00; text-decoration-color: #00af00\">14</span>, <span style=\"color: #00af00; text-decoration-color: #00af00\">14</span>, <span style=\"color: #00af00; text-decoration-color: #00af00\">32</span>)     │             <span style=\"color: #00af00; text-decoration-color: #00af00\">0</span> │\n",
       "├─────────────────────────────────┼────────────────────────┼───────────────┤\n",
       "│ flatten (<span style=\"color: #0087ff; text-decoration-color: #0087ff\">Flatten</span>)               │ (<span style=\"color: #00d7ff; text-decoration-color: #00d7ff\">None</span>, <span style=\"color: #00af00; text-decoration-color: #00af00\">6272</span>)           │             <span style=\"color: #00af00; text-decoration-color: #00af00\">0</span> │\n",
       "├─────────────────────────────────┼────────────────────────┼───────────────┤\n",
       "│ dense (<span style=\"color: #0087ff; text-decoration-color: #0087ff\">Dense</span>)                   │ (<span style=\"color: #00d7ff; text-decoration-color: #00d7ff\">None</span>, <span style=\"color: #00af00; text-decoration-color: #00af00\">64</span>)             │       <span style=\"color: #00af00; text-decoration-color: #00af00\">401,472</span> │\n",
       "├─────────────────────────────────┼────────────────────────┼───────────────┤\n",
       "│ dense_1 (<span style=\"color: #0087ff; text-decoration-color: #0087ff\">Dense</span>)                 │ (<span style=\"color: #00d7ff; text-decoration-color: #00d7ff\">None</span>, <span style=\"color: #00af00; text-decoration-color: #00af00\">64</span>)             │         <span style=\"color: #00af00; text-decoration-color: #00af00\">4,160</span> │\n",
       "├─────────────────────────────────┼────────────────────────┼───────────────┤\n",
       "│ dense_2 (<span style=\"color: #0087ff; text-decoration-color: #0087ff\">Dense</span>)                 │ (<span style=\"color: #00d7ff; text-decoration-color: #00d7ff\">None</span>, <span style=\"color: #00af00; text-decoration-color: #00af00\">2</span>)              │           <span style=\"color: #00af00; text-decoration-color: #00af00\">130</span> │\n",
       "└─────────────────────────────────┴────────────────────────┴───────────────┘\n",
       "</pre>\n"
      ],
      "text/plain": [
       "┏━━━━━━━━━━━━━━━━━━━━━━━━━━━━━━━━━┳━━━━━━━━━━━━━━━━━━━━━━━━┳━━━━━━━━━━━━━━━┓\n",
       "┃\u001b[1m \u001b[0m\u001b[1mLayer (type)                   \u001b[0m\u001b[1m \u001b[0m┃\u001b[1m \u001b[0m\u001b[1mOutput Shape          \u001b[0m\u001b[1m \u001b[0m┃\u001b[1m \u001b[0m\u001b[1m      Param #\u001b[0m\u001b[1m \u001b[0m┃\n",
       "┡━━━━━━━━━━━━━━━━━━━━━━━━━━━━━━━━━╇━━━━━━━━━━━━━━━━━━━━━━━━╇━━━━━━━━━━━━━━━┩\n",
       "│ conv2d (\u001b[38;5;33mConv2D\u001b[0m)                 │ (\u001b[38;5;45mNone\u001b[0m, \u001b[38;5;34m60\u001b[0m, \u001b[38;5;34m60\u001b[0m, \u001b[38;5;34m16\u001b[0m)     │           \u001b[38;5;34m416\u001b[0m │\n",
       "├─────────────────────────────────┼────────────────────────┼───────────────┤\n",
       "│ max_pooling2d (\u001b[38;5;33mMaxPooling2D\u001b[0m)    │ (\u001b[38;5;45mNone\u001b[0m, \u001b[38;5;34m30\u001b[0m, \u001b[38;5;34m30\u001b[0m, \u001b[38;5;34m16\u001b[0m)     │             \u001b[38;5;34m0\u001b[0m │\n",
       "├─────────────────────────────────┼────────────────────────┼───────────────┤\n",
       "│ conv2d_1 (\u001b[38;5;33mConv2D\u001b[0m)               │ (\u001b[38;5;45mNone\u001b[0m, \u001b[38;5;34m28\u001b[0m, \u001b[38;5;34m28\u001b[0m, \u001b[38;5;34m32\u001b[0m)     │         \u001b[38;5;34m4,640\u001b[0m │\n",
       "├─────────────────────────────────┼────────────────────────┼───────────────┤\n",
       "│ max_pooling2d_1 (\u001b[38;5;33mMaxPooling2D\u001b[0m)  │ (\u001b[38;5;45mNone\u001b[0m, \u001b[38;5;34m14\u001b[0m, \u001b[38;5;34m14\u001b[0m, \u001b[38;5;34m32\u001b[0m)     │             \u001b[38;5;34m0\u001b[0m │\n",
       "├─────────────────────────────────┼────────────────────────┼───────────────┤\n",
       "│ flatten (\u001b[38;5;33mFlatten\u001b[0m)               │ (\u001b[38;5;45mNone\u001b[0m, \u001b[38;5;34m6272\u001b[0m)           │             \u001b[38;5;34m0\u001b[0m │\n",
       "├─────────────────────────────────┼────────────────────────┼───────────────┤\n",
       "│ dense (\u001b[38;5;33mDense\u001b[0m)                   │ (\u001b[38;5;45mNone\u001b[0m, \u001b[38;5;34m64\u001b[0m)             │       \u001b[38;5;34m401,472\u001b[0m │\n",
       "├─────────────────────────────────┼────────────────────────┼───────────────┤\n",
       "│ dense_1 (\u001b[38;5;33mDense\u001b[0m)                 │ (\u001b[38;5;45mNone\u001b[0m, \u001b[38;5;34m64\u001b[0m)             │         \u001b[38;5;34m4,160\u001b[0m │\n",
       "├─────────────────────────────────┼────────────────────────┼───────────────┤\n",
       "│ dense_2 (\u001b[38;5;33mDense\u001b[0m)                 │ (\u001b[38;5;45mNone\u001b[0m, \u001b[38;5;34m2\u001b[0m)              │           \u001b[38;5;34m130\u001b[0m │\n",
       "└─────────────────────────────────┴────────────────────────┴───────────────┘\n"
      ]
     },
     "metadata": {},
     "output_type": "display_data"
    },
    {
     "data": {
      "text/html": [
       "<pre style=\"white-space:pre;overflow-x:auto;line-height:normal;font-family:Menlo,'DejaVu Sans Mono',consolas,'Courier New',monospace\"><span style=\"font-weight: bold\"> Total params: </span><span style=\"color: #00af00; text-decoration-color: #00af00\">410,820</span> (1.57 MB)\n",
       "</pre>\n"
      ],
      "text/plain": [
       "\u001b[1m Total params: \u001b[0m\u001b[38;5;34m410,820\u001b[0m (1.57 MB)\n"
      ]
     },
     "metadata": {},
     "output_type": "display_data"
    },
    {
     "data": {
      "text/html": [
       "<pre style=\"white-space:pre;overflow-x:auto;line-height:normal;font-family:Menlo,'DejaVu Sans Mono',consolas,'Courier New',monospace\"><span style=\"font-weight: bold\"> Trainable params: </span><span style=\"color: #00af00; text-decoration-color: #00af00\">410,818</span> (1.57 MB)\n",
       "</pre>\n"
      ],
      "text/plain": [
       "\u001b[1m Trainable params: \u001b[0m\u001b[38;5;34m410,818\u001b[0m (1.57 MB)\n"
      ]
     },
     "metadata": {},
     "output_type": "display_data"
    },
    {
     "data": {
      "text/html": [
       "<pre style=\"white-space:pre;overflow-x:auto;line-height:normal;font-family:Menlo,'DejaVu Sans Mono',consolas,'Courier New',monospace\"><span style=\"font-weight: bold\"> Non-trainable params: </span><span style=\"color: #00af00; text-decoration-color: #00af00\">0</span> (0.00 B)\n",
       "</pre>\n"
      ],
      "text/plain": [
       "\u001b[1m Non-trainable params: \u001b[0m\u001b[38;5;34m0\u001b[0m (0.00 B)\n"
      ]
     },
     "metadata": {},
     "output_type": "display_data"
    },
    {
     "data": {
      "text/html": [
       "<pre style=\"white-space:pre;overflow-x:auto;line-height:normal;font-family:Menlo,'DejaVu Sans Mono',consolas,'Courier New',monospace\"><span style=\"font-weight: bold\"> Optimizer params: </span><span style=\"color: #00af00; text-decoration-color: #00af00\">2</span> (12.00 B)\n",
       "</pre>\n"
      ],
      "text/plain": [
       "\u001b[1m Optimizer params: \u001b[0m\u001b[38;5;34m2\u001b[0m (12.00 B)\n"
      ]
     },
     "metadata": {},
     "output_type": "display_data"
    }
   ],
   "source": [
    "Model.summary()"
   ]
  },
  {
   "cell_type": "code",
   "execution_count": 24,
   "metadata": {},
   "outputs": [
    {
     "data": {
      "image/png": "[encoded data removed]",
      "text/plain": [
       "<Figure size 1200x600 with 1 Axes>"
      ]
     },
     "metadata": {},
     "output_type": "display_data"
    },
    {
     "data": {
      "image/png": "[encoded data removed]",
      "text/plain": [
       "<Figure size 1200x600 with 1 Axes>"
      ]
     },
     "metadata": {},
     "output_type": "display_data"
    }
   ],
   "source": [
    "# Plotting Loss over time\n",
    "plt.figure(figsize=(12, 6))\n",
    "plt.plot(history.history['loss'], label='Training Loss')\n",
    "plt.plot(history.history['val_loss'], label='Validation Loss')\n",
    "plt.title('Human Face Detection Model Loss over time')\n",
    "plt.xlabel('Epochs')\n",
    "plt.ylabel('Loss')\n",
    "plt.legend()\n",
    "plt.show()\n",
    "\n",
    "# Plotting Accuracy over time\n",
    "plt.figure(figsize=(12, 6))\n",
    "plt.plot(history.history['Accuracy'], label='Training Accuracy')\n",
    "plt.plot(history.history['val_Accuracy'], label='Validation Accuracy')\n",
    "plt.title('Human Face Detection Model Accuracy over time')\n",
    "plt.xlabel('Epochs')\n",
    "plt.ylabel('Accuracy')\n",
    "plt.legend()\n",
    "plt.show()"
   ]
  },
  {
   "cell_type": "code",
   "execution_count": 25,
   "metadata": {},
   "outputs": [
    {
     "name": "stderr",
     "output_type": "stream",
     "text": [
      "WARNING:absl:You are saving your model as an HDF5 file via `model.save()` or `keras.saving.save_model(model)`. This file format is considered legacy. We recommend using instead the native Keras format, e.g. `model.save('my_model.keras')` or `keras.saving.save_model(model, 'my_model.keras')`. \n"
     ]
    },
    {
     "name": "stdout",
     "output_type": "stream",
     "text": [
      "Model Saved Successfully!\n"
     ]
    }
   ],
   "source": [
    "# Save the Model\n",
    "Model.save(os.path.join(AI_MODEL_ROOT, 'human_face_detection_model.h5'))\n",
    "print(\"Model Saved Successfully!\")"
   ]
  },
  {
   "cell_type": "markdown",
   "metadata": {},
   "source": [
    "## Evaluating the Model"
   ]
  },
  {
   "cell_type": "code",
   "execution_count": 36,
   "metadata": {},
   "outputs": [
    {
     "name": "stdout",
     "output_type": "stream",
     "text": [
      "\u001b[1m89/89\u001b[0m \u001b[32m━━━━━━━━━━━━━━━━━━━━\u001b[0m\u001b[37m\u001b[0m \u001b[1m1s\u001b[0m 9ms/step\n"
     ]
    },
    {
     "data": {
      "text/plain": [
       "array([[2.1576666e-04, 9.9978429e-01],\n",
       "       [3.1424739e-04, 9.9968576e-01],\n",
       "       [6.4715791e-06, 9.9999356e-01],\n",
       "       ...,\n",
       "       [9.9998260e-01, 1.7346772e-05],\n",
       "       [9.9999952e-01, 5.0150902e-07],\n",
       "       [9.9838984e-01, 1.6101794e-03]], shape=(2823, 2), dtype=float32)"
      ]
     },
     "execution_count": 36,
     "metadata": {},
     "output_type": "execute_result"
    }
   ],
   "source": [
    "# Make Predictions\n",
    "pred = Model.predict(X_TEST)\n",
    "pred"
   ]
  },
  {
   "cell_type": "code",
   "execution_count": 37,
   "metadata": {},
   "outputs": [
    {
     "data": {
      "text/plain": [
       "array([1, 1, 1, ..., 0, 0, 0], shape=(2823,))"
      ]
     },
     "execution_count": 37,
     "metadata": {},
     "output_type": "execute_result"
    }
   ],
   "source": [
    "# One-Hot Decode the Predictions\n",
    "pred = np.argmax(pred, axis=1)\n",
    "pred"
   ]
  },
  {
   "cell_type": "code",
   "execution_count": 48,
   "metadata": {},
   "outputs": [
    {
     "name": "stdout",
     "output_type": "stream",
     "text": [
      "Accuracy: 0.9674105561459441\n",
      "Precision: 0.9802683504340963\n",
      "Recall: 0.9488158899923606\n",
      "Macro F1 Score: 0.9671591437878083\n",
      "Micro F1 Score: 0.9674105561459441\n",
      "AUC: 0.966151670227356\n"
     ]
    },
    {
     "data": {
      "image/png": "[encoded data removed]",
      "text/plain": [
       "<Figure size 640x480 with 1 Axes>"
      ]
     },
     "metadata": {},
     "output_type": "display_data"
    }
   ],
   "source": [
    "# Decode the Labels with Label Encoder\n",
    "encoderTest_ali = pickle.load(open(os.path.join(\n",
    "    AI_MODEL_ROOT, \n",
    "    'dataset',\n",
    "    'aliasgartaksali',\n",
    "    'human-and-non-human',\n",
    "    'encoderTest.pkl'\n",
    "), 'rb'))\n",
    "encoderTest_ashwing = np.load(open(os.path.join(\n",
    "    AI_MODEL_ROOT, \n",
    "    'dataset',\n",
    "    'ashwingupta3012',\n",
    "    'human-faces',\n",
    "    'encoders',\n",
    "    'encoder_test.npy'\n",
    "), 'rb'), allow_pickle=True)\n",
    "\n",
    "# X_TEST is a combination of both the datasets\n",
    "# Y_TEST is the ground truth\n",
    "# Goal: compare the predictions with the ground truth\n",
    "# Evaluate accuracy\n",
    "accuracy = accuracy_score(Y_TEST, pred)\n",
    "print(f\"Accuracy: {accuracy}\")\n",
    "\n",
    "# Evaluate precision\n",
    "precision = precision_score(Y_TEST, pred)\n",
    "print(f\"Precision: {precision}\")\n",
    "\n",
    "# Evaluate recall\n",
    "recall = recall_score(Y_TEST, pred)\n",
    "print(f\"Recall: {recall}\")\n",
    "\n",
    "# Evaluate macro and micro F1 scores\n",
    "macro_f1 = f1_score(Y_TEST, pred, average='macro')\n",
    "micro_f1 = f1_score(Y_TEST, pred, average='micro')\n",
    "print(f\"Macro F1 Score: {macro_f1}\")\n",
    "print(f\"Micro F1 Score: {micro_f1}\")\n",
    "\n",
    "# Evaluate AUC\n",
    "auc_score = roc_auc_score(Y_TEST, pred)\n",
    "print(f\"AUC: {auc_score}\")\n",
    "\n",
    "# Plot ROC-AUC curve\n",
    "fpr, tpr, _ = roc_curve(Y_TEST, pred)\n",
    "roc_auc = auc(fpr, tpr)\n",
    "\n",
    "plt.figure()\n",
    "plt.plot(fpr, tpr, color='darkorange', lw=2, label=f'ROC curve (area = {roc_auc:.2f})')\n",
    "plt.plot([0, 1], [0, 1], color='navy', lw=2, linestyle='--')\n",
    "plt.xlim([0.0, 1.0])\n",
    "plt.ylim([0.0, 1.05])\n",
    "plt.xlabel('False Positive Rate')\n",
    "plt.ylabel('True Positive Rate')\n",
    "plt.title('Receiver Operating Characteristic (ROC) Curve')\n",
    "plt.legend(loc=\"lower right\")\n",
    "plt.show()"
   ]
  },
  {
   "cell_type": "code",
   "execution_count": 52,
   "metadata": {},
   "outputs": [
    {
     "name": "stdout",
     "output_type": "stream",
     "text": [
      "Predicting the 2573 image from test set: \n"
     ]
    },
    {
     "data": {
      "image/png": "[encoded data removed]",
      "text/plain": [
       "<Figure size 640x480 with 1 Axes>"
      ]
     },
     "metadata": {},
     "output_type": "display_data"
    },
    {
     "name": "stdout",
     "output_type": "stream",
     "text": [
      "The above image is predicted as: humans\n",
      "The actual label of the image is: humans\n"
     ]
    }
   ],
   "source": [
    "# Show a random prediction in human readable format\n",
    "index = random.randint(0, len(pred))\n",
    "image = X_TEST[index]\n",
    "pred_item = pred[index]\n",
    "actual_item = Y_TEST[index]\n",
    "print(f\"Predicting the {index} image from test set: \")\n",
    "plt.imshow(image)\n",
    "plt.show()\n",
    "\n",
    "encoder = pickle.load(open(os.path.join(\n",
    "    AI_MODEL_ROOT,\n",
    "    'dataset',\n",
    "    'aliasgartaksali',\n",
    "    'human-and-non-human',\n",
    "    'encoderTest.pkl'\n",
    "), 'rb'))\n",
    "pred_item_text = decode_labels(\n",
    "    encoded_labels=[pred_item],\n",
    "    encoder=encoder\n",
    ")[0]\n",
    "actual_item_text = decode_labels(\n",
    "    encoded_labels=[actual_item],\n",
    "    encoder=encoder\n",
    ")[0]\n",
    "print(f\"The above image is predicted as: {pred_item_text}\")\n",
    "print(f\"The actual label of the image is: {actual_item_text}\")"
   ]
  }
 ],
 "metadata": {
  "kernelspec": {
   "display_name": "genai-venv",
   "language": "python",
   "name": "python3"
  },
  "language_info": {
   "codemirror_mode": {
    "name": "ipython",
    "version": 3
   },
   "file_extension": ".py",
   "mimetype": "text/x-python",
   "name": "python",
   "nbconvert_exporter": "python",
   "pygments_lexer": "ipython3",
   "version": "3.10.7"
  }
 },
 "nbformat": 4,
 "nbformat_minor": 2
}
