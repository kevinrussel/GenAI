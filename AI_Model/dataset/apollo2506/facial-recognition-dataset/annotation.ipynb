{
 "cells": [
  {
   "cell_type": "markdown",
   "metadata": {},
   "source": [
    "# Apollo2506 Facial Recognition Dataset"
   ]
  },
  {
   "cell_type": "code",
   "execution_count": 1,
   "metadata": {},
   "outputs": [],
   "source": [
    "import numpy as np\n",
    "import pickle"
   ]
  },
  {
   "cell_type": "code",
   "execution_count": 2,
   "metadata": {},
   "outputs": [],
   "source": [
    "# Define paths\n",
    "import os\n",
    "TESTING_PATH = os.path.join(\n",
    "    os.path.dirname(os.path.realpath(os.curdir)), \n",
    "    'facial-recognition-dataset',\n",
    "    'versions',\n",
    "    '3',\n",
    "    'Testing',\n",
    "    'Testing'\n",
    ")\n",
    "\n",
    "TRAINING_PATH = os.path.join(\n",
    "    os.path.dirname(os.path.realpath(os.curdir)), \n",
    "    'facial-recognition-dataset',\n",
    "    'versions',\n",
    "    '3',\n",
    "    'Training',\n",
    "    'Training'\n",
    ")\n",
    "AI_MODEL_PATH = os.path.abspath(os.path.join(os.path.curdir, os.pardir, os.pardir, os.pardir))"
   ]
  },
  {
   "cell_type": "code",
   "execution_count": 3,
   "metadata": {},
   "outputs": [],
   "source": [
    "import sys\n",
    "sys.path.append(AI_MODEL_PATH)"
   ]
  },
  {
   "cell_type": "code",
   "execution_count": 4,
   "metadata": {},
   "outputs": [],
   "source": [
    "from image_preprocessing import encode_labels, decode_labels"
   ]
  },
  {
   "cell_type": "code",
   "execution_count": 5,
   "metadata": {},
   "outputs": [
    {
     "data": {
      "text/plain": [
       "['Fear', 'Neutral', 'Sad', 'Angry', 'Suprise', 'Happy']"
      ]
     },
     "execution_count": 5,
     "metadata": {},
     "output_type": "execute_result"
    }
   ],
   "source": [
    "# Extract Unique Emotions in this dataset\n",
    "uniqueEmotions_Testing = os.listdir(TESTING_PATH)\n",
    "uniqueEmotions_Training = os.listdir(TRAINING_PATH)\n",
    "uniqueEmotions = list(set(uniqueEmotions_Testing + uniqueEmotions_Training))\n",
    "uniqueEmotions"
   ]
  },
  {
   "cell_type": "code",
   "execution_count": 6,
   "metadata": {},
   "outputs": [
    {
     "name": "stdout",
     "output_type": "stream",
     "text": [
      "Training Set: 28273\n",
      "Testing Set: 7067\n"
     ]
    }
   ],
   "source": [
    "y_train = []\n",
    "y_test = []\n",
    "for emotion in uniqueEmotions_Training:\n",
    "    for imageName in os.listdir(os.path.join(TRAINING_PATH, emotion)):\n",
    "        y_train.append(emotion)\n",
    "for emotion in uniqueEmotions_Testing:\n",
    "    for imageName in os.listdir(os.path.join(TESTING_PATH, emotion)):\n",
    "        y_test.append(emotion)\n",
    "print(f\"Training Set: {len(y_train)}\")\n",
    "print(f\"Testing Set: {len(y_test)}\")"
   ]
  },
  {
   "cell_type": "code",
   "execution_count": 7,
   "metadata": {},
   "outputs": [],
   "source": [
    "y_train = np.array(y_train)\n",
    "y_test = np.array(y_test)"
   ]
  },
  {
   "cell_type": "code",
   "execution_count": 8,
   "metadata": {},
   "outputs": [],
   "source": [
    "assert all(emotion in uniqueEmotions_Training for emotion in y_train)\n",
    "assert all(emotion in uniqueEmotions_Testing for emotion in y_test)"
   ]
  },
  {
   "cell_type": "markdown",
   "metadata": {},
   "source": [
    "## Encode Labels"
   ]
  },
  {
   "cell_type": "code",
   "execution_count": 9,
   "metadata": {},
   "outputs": [],
   "source": [
    "encoded_y_train, encoder_y_train = encode_labels(\n",
    "    labels=y_train\n",
    ")\n",
    "encoded_y_test, encoder_y_test = encode_labels(\n",
    "    labels=y_test\n",
    ")\n",
    "assert len(encoded_y_train) == len(y_train)\n",
    "assert len(encoded_y_test) == len(y_test)"
   ]
  },
  {
   "cell_type": "code",
   "execution_count": 10,
   "metadata": {},
   "outputs": [
    {
     "name": "stdout",
     "output_type": "stream",
     "text": [
      "True\n",
      "True\n"
     ]
    }
   ],
   "source": [
    "# Test if Encoder works (with the decoder)\n",
    "print(np.all(y_train == decode_labels(encoded_y_train, encoder_y_train)))\n",
    "print(np.all(y_test == decode_labels(encoded_y_test, encoder_y_test)))"
   ]
  },
  {
   "cell_type": "code",
   "execution_count": 11,
   "metadata": {},
   "outputs": [
    {
     "name": "stdout",
     "output_type": "stream",
     "text": [
      "Unique Values after encoded in Training Set: [0 1 2 3 4 5]\n",
      "Unique Values after encoded in Test Set: [0 1 2 3 4 5]\n"
     ]
    }
   ],
   "source": [
    "print(f\"Unique Values after encoded in Training Set: {np.unique(encoded_y_train)}\")\n",
    "print(f\"Unique Values after encoded in Test Set: {np.unique(encoded_y_test)}\")"
   ]
  },
  {
   "cell_type": "code",
   "execution_count": 12,
   "metadata": {},
   "outputs": [
    {
     "name": "stdout",
     "output_type": "stream",
     "text": [
      "Encoded Labels Saved!\n"
     ]
    }
   ],
   "source": [
    "# Save the encoded labels\n",
    "LABEL_DIR = 'label'\n",
    "if not os.path.exists(LABEL_DIR):\n",
    "    os.makedirs(LABEL_DIR)\n",
    "np.save(os.path.join(LABEL_DIR, 'encoded_y_train.npy'), encoded_y_train)\n",
    "np.save(os.path.join(LABEL_DIR, 'encoded_y_test.npy'), encoded_y_test)\n",
    "# saving the encoders\n",
    "with open(os.path.join('encoder_y_train.pkl'), 'wb') as f:\n",
    "    pickle.dump(encoder_y_train, f)\n",
    "with open(os.path.join('encoder_y_test.pkl'), 'wb') as f:\n",
    "    pickle.dump(encoder_y_test, f)\n",
    "print(\"Encoded Labels Saved!\")"
   ]
  }
 ],
 "metadata": {
  "kernelspec": {
   "display_name": "genai-venv",
   "language": "python",
   "name": "python3"
  },
  "language_info": {
   "codemirror_mode": {
    "name": "ipython",
    "version": 3
   },
   "file_extension": ".py",
   "mimetype": "text/x-python",
   "name": "python",
   "nbconvert_exporter": "python",
   "pygments_lexer": "ipython3",
   "version": "3.10.7"
  }
 },
 "nbformat": 4,
 "nbformat_minor": 2
}
